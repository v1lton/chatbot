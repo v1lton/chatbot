{
 "cells": [
  {
   "cell_type": "markdown",
   "metadata": {},
   "source": [
    "# Leitura dos Dados"
   ]
  },
  {
   "cell_type": "markdown",
   "metadata": {},
   "source": [
    "## Carregamento dos dados"
   ]
  },
  {
   "cell_type": "markdown",
   "metadata": {},
   "source": [
    "Inicialmente iremos realizar a leitura dos dados que serão utilizados para pergunta e resposta. Estamos considerando como 'other' a intenção para Q&A."
   ]
  },
  {
   "cell_type": "code",
   "execution_count": 1,
   "metadata": {},
   "outputs": [
    {
     "name": "stderr",
     "output_type": "stream",
     "text": [
      "/var/folders/9s/57nzd20544q42fhd798g3nmh0000gn/T/ipykernel_44947/1662815981.py:2: DeprecationWarning: \n",
      "Pyarrow will become a required dependency of pandas in the next major release of pandas (pandas 3.0),\n",
      "(to allow more performant data types, such as the Arrow string type, and better interoperability with other libraries)\n",
      "but was not found to be installed on your system.\n",
      "If this would cause problems for you,\n",
      "please provide us feedback at https://github.com/pandas-dev/pandas/issues/54466\n",
      "        \n",
      "  import pandas as pd\n"
     ]
    }
   ],
   "source": [
    "import numpy as np\n",
    "import pandas as pd"
   ]
  },
  {
   "cell_type": "code",
   "execution_count": 2,
   "metadata": {},
   "outputs": [
    {
     "data": {
      "text/html": [
       "<div>\n",
       "<style scoped>\n",
       "    .dataframe tbody tr th:only-of-type {\n",
       "        vertical-align: middle;\n",
       "    }\n",
       "\n",
       "    .dataframe tbody tr th {\n",
       "        vertical-align: top;\n",
       "    }\n",
       "\n",
       "    .dataframe thead th {\n",
       "        text-align: right;\n",
       "    }\n",
       "</style>\n",
       "<table border=\"1\" class=\"dataframe\">\n",
       "  <thead>\n",
       "    <tr style=\"text-align: right;\">\n",
       "      <th></th>\n",
       "      <th>target</th>\n",
       "      <th>text</th>\n",
       "    </tr>\n",
       "  </thead>\n",
       "  <tbody>\n",
       "    <tr>\n",
       "      <th>0</th>\n",
       "      <td>other</td>\n",
       "      <td>What is the principle behind flight?</td>\n",
       "    </tr>\n",
       "    <tr>\n",
       "      <th>1</th>\n",
       "      <td>other</td>\n",
       "      <td>What are the four forces acting on an airplane?</td>\n",
       "    </tr>\n",
       "    <tr>\n",
       "      <th>2</th>\n",
       "      <td>other</td>\n",
       "      <td>What is the difference between IFR and VFR?</td>\n",
       "    </tr>\n",
       "    <tr>\n",
       "      <th>3</th>\n",
       "      <td>other</td>\n",
       "      <td>What is a black box in aviation?</td>\n",
       "    </tr>\n",
       "    <tr>\n",
       "      <th>4</th>\n",
       "      <td>other</td>\n",
       "      <td>What is the busiest airport in the world by pa...</td>\n",
       "    </tr>\n",
       "    <tr>\n",
       "      <th>...</th>\n",
       "      <td>...</td>\n",
       "      <td>...</td>\n",
       "    </tr>\n",
       "    <tr>\n",
       "      <th>94</th>\n",
       "      <td>other</td>\n",
       "      <td>What is \"ACARS\"?</td>\n",
       "    </tr>\n",
       "    <tr>\n",
       "      <th>95</th>\n",
       "      <td>other</td>\n",
       "      <td>What is \"Alternate Airport\"?</td>\n",
       "    </tr>\n",
       "    <tr>\n",
       "      <th>96</th>\n",
       "      <td>other</td>\n",
       "      <td>at does \"pan-pan\" mean?</td>\n",
       "    </tr>\n",
       "    <tr>\n",
       "      <th>97</th>\n",
       "      <td>other</td>\n",
       "      <td>What is \"decision height\" (DH)?</td>\n",
       "    </tr>\n",
       "    <tr>\n",
       "      <th>98</th>\n",
       "      <td>other</td>\n",
       "      <td>What is \"angle of incidence\"?</td>\n",
       "    </tr>\n",
       "  </tbody>\n",
       "</table>\n",
       "<p>99 rows × 2 columns</p>\n",
       "</div>"
      ],
      "text/plain": [
       "   target                                               text\n",
       "0   other               What is the principle behind flight?\n",
       "1   other    What are the four forces acting on an airplane?\n",
       "2   other        What is the difference between IFR and VFR?\n",
       "3   other                   What is a black box in aviation?\n",
       "4   other  What is the busiest airport in the world by pa...\n",
       "..    ...                                                ...\n",
       "94  other                                   What is \"ACARS\"?\n",
       "95  other                       What is \"Alternate Airport\"?\n",
       "96  other                            at does \"pan-pan\" mean?\n",
       "97  other                    What is \"decision height\" (DH)?\n",
       "98  other                      What is \"angle of incidence\"?\n",
       "\n",
       "[99 rows x 2 columns]"
      ]
     },
     "execution_count": 2,
     "metadata": {},
     "output_type": "execute_result"
    }
   ],
   "source": [
    "qa_data = pd.read_csv(\"q&a_intent_train.csv\", names= [\"target\", \"text\"])\n",
    "\n",
    "qa_data"
   ]
  },
  {
   "cell_type": "markdown",
   "metadata": {},
   "source": [
    "Leitura dos dados de treino e teste disponibilizados pelo ATIS dataset."
   ]
  },
  {
   "cell_type": "code",
   "execution_count": 3,
   "metadata": {},
   "outputs": [
    {
     "name": "stdout",
     "output_type": "stream",
     "text": [
      "ATIS train dataset size is: 4834\n",
      "ATIS test dataset size is: 800\n"
     ]
    }
   ],
   "source": [
    "atis_train_data = pd.read_csv(\"atis_intents_train.csv\", names= [\"target\", \"text\"])\n",
    "atis_test_data = pd.read_csv(\"atis_intents_test.csv\", names= [\"target\", \"text\"])\n",
    "\n",
    "print(\"ATIS train dataset size is:\", len(atis_train_data))\n",
    "print(\"ATIS test dataset size is:\", len(atis_test_data))"
   ]
  },
  {
   "cell_type": "code",
   "execution_count": 4,
   "metadata": {},
   "outputs": [
    {
     "name": "stdout",
     "output_type": "stream",
     "text": [
      "Q&A train dataset size is: 79\n",
      "Q&A test dataset size is: 20\n"
     ]
    }
   ],
   "source": [
    "from sklearn.model_selection import train_test_split\n",
    "\n",
    "# Split the data into training and testing sets\n",
    "qa_train_data, qa_test_data = train_test_split(qa_data, test_size=0.20, random_state=42)\n",
    "\n",
    "print(\"Q&A train dataset size is:\", len(qa_train_data))\n",
    "print(\"Q&A test dataset size is:\", len(qa_test_data))"
   ]
  },
  {
   "cell_type": "code",
   "execution_count": 5,
   "metadata": {},
   "outputs": [
    {
     "data": {
      "text/html": [
       "<div>\n",
       "<style scoped>\n",
       "    .dataframe tbody tr th:only-of-type {\n",
       "        vertical-align: middle;\n",
       "    }\n",
       "\n",
       "    .dataframe tbody tr th {\n",
       "        vertical-align: top;\n",
       "    }\n",
       "\n",
       "    .dataframe thead th {\n",
       "        text-align: right;\n",
       "    }\n",
       "</style>\n",
       "<table border=\"1\" class=\"dataframe\">\n",
       "  <thead>\n",
       "    <tr style=\"text-align: right;\">\n",
       "      <th></th>\n",
       "      <th>target</th>\n",
       "      <th>text</th>\n",
       "    </tr>\n",
       "  </thead>\n",
       "  <tbody>\n",
       "    <tr>\n",
       "      <th>0</th>\n",
       "      <td>other</td>\n",
       "      <td>What is a \"taxiway\"?</td>\n",
       "    </tr>\n",
       "    <tr>\n",
       "      <th>1</th>\n",
       "      <td>other</td>\n",
       "      <td>What is a \"slot-restricted\" airport?</td>\n",
       "    </tr>\n",
       "    <tr>\n",
       "      <th>2</th>\n",
       "      <td>other</td>\n",
       "      <td>What is \"NextGen\" in U.S. aviation?</td>\n",
       "    </tr>\n",
       "    <tr>\n",
       "      <th>3</th>\n",
       "      <td>other</td>\n",
       "      <td>What does the term \"gate hold\" mean in aviation?</td>\n",
       "    </tr>\n",
       "    <tr>\n",
       "      <th>4</th>\n",
       "      <td>other</td>\n",
       "      <td>What does \"direct flight\" mean as opposed to \"...</td>\n",
       "    </tr>\n",
       "    <tr>\n",
       "      <th>...</th>\n",
       "      <td>...</td>\n",
       "      <td>...</td>\n",
       "    </tr>\n",
       "    <tr>\n",
       "      <th>4908</th>\n",
       "      <td>atis_airfare</td>\n",
       "      <td>what is the airfare for flights from denver t...</td>\n",
       "    </tr>\n",
       "    <tr>\n",
       "      <th>4909</th>\n",
       "      <td>atis_flight</td>\n",
       "      <td>do you have any flights from denver to baltim...</td>\n",
       "    </tr>\n",
       "    <tr>\n",
       "      <th>4910</th>\n",
       "      <td>atis_airline</td>\n",
       "      <td>which airlines fly into and out of denver</td>\n",
       "    </tr>\n",
       "    <tr>\n",
       "      <th>4911</th>\n",
       "      <td>atis_flight</td>\n",
       "      <td>does continental fly from boston to san franc...</td>\n",
       "    </tr>\n",
       "    <tr>\n",
       "      <th>4912</th>\n",
       "      <td>atis_flight</td>\n",
       "      <td>is there a delta flight from denver to san fr...</td>\n",
       "    </tr>\n",
       "  </tbody>\n",
       "</table>\n",
       "<p>4913 rows × 2 columns</p>\n",
       "</div>"
      ],
      "text/plain": [
       "            target                                               text\n",
       "0            other                               What is a \"taxiway\"?\n",
       "1            other               What is a \"slot-restricted\" airport?\n",
       "2            other                What is \"NextGen\" in U.S. aviation?\n",
       "3            other   What does the term \"gate hold\" mean in aviation?\n",
       "4            other  What does \"direct flight\" mean as opposed to \"...\n",
       "...            ...                                                ...\n",
       "4908  atis_airfare   what is the airfare for flights from denver t...\n",
       "4909   atis_flight   do you have any flights from denver to baltim...\n",
       "4910  atis_airline          which airlines fly into and out of denver\n",
       "4911   atis_flight   does continental fly from boston to san franc...\n",
       "4912   atis_flight   is there a delta flight from denver to san fr...\n",
       "\n",
       "[4913 rows x 2 columns]"
      ]
     },
     "execution_count": 5,
     "metadata": {},
     "output_type": "execute_result"
    }
   ],
   "source": [
    "train_data = pd.concat([qa_train_data, atis_train_data], ignore_index=True)\n",
    "\n",
    "train_data"
   ]
  },
  {
   "cell_type": "code",
   "execution_count": 6,
   "metadata": {},
   "outputs": [
    {
     "data": {
      "text/html": [
       "<div>\n",
       "<style scoped>\n",
       "    .dataframe tbody tr th:only-of-type {\n",
       "        vertical-align: middle;\n",
       "    }\n",
       "\n",
       "    .dataframe tbody tr th {\n",
       "        vertical-align: top;\n",
       "    }\n",
       "\n",
       "    .dataframe thead th {\n",
       "        text-align: right;\n",
       "    }\n",
       "</style>\n",
       "<table border=\"1\" class=\"dataframe\">\n",
       "  <thead>\n",
       "    <tr style=\"text-align: right;\">\n",
       "      <th></th>\n",
       "      <th>target</th>\n",
       "      <th>text</th>\n",
       "    </tr>\n",
       "  </thead>\n",
       "  <tbody>\n",
       "    <tr>\n",
       "      <th>0</th>\n",
       "      <td>other</td>\n",
       "      <td>What is \"yaw\" in aviation?</td>\n",
       "    </tr>\n",
       "    <tr>\n",
       "      <th>1</th>\n",
       "      <td>other</td>\n",
       "      <td>What is a \"deadhead\" flight?</td>\n",
       "    </tr>\n",
       "    <tr>\n",
       "      <th>2</th>\n",
       "      <td>other</td>\n",
       "      <td>What is \"Alternate Airport\"?</td>\n",
       "    </tr>\n",
       "    <tr>\n",
       "      <th>3</th>\n",
       "      <td>other</td>\n",
       "      <td>What is the purpose of ailerons on an aircraft?</td>\n",
       "    </tr>\n",
       "    <tr>\n",
       "      <th>4</th>\n",
       "      <td>other</td>\n",
       "      <td>What is \"decision height\" (DH)?</td>\n",
       "    </tr>\n",
       "    <tr>\n",
       "      <th>...</th>\n",
       "      <td>...</td>\n",
       "      <td>...</td>\n",
       "    </tr>\n",
       "    <tr>\n",
       "      <th>815</th>\n",
       "      <td>atis_flight</td>\n",
       "      <td>please find all the flights from cincinnati t...</td>\n",
       "    </tr>\n",
       "    <tr>\n",
       "      <th>816</th>\n",
       "      <td>atis_flight</td>\n",
       "      <td>find me a flight from cincinnati to any airpo...</td>\n",
       "    </tr>\n",
       "    <tr>\n",
       "      <th>817</th>\n",
       "      <td>atis_flight</td>\n",
       "      <td>i'd like to fly from miami to chicago on amer...</td>\n",
       "    </tr>\n",
       "    <tr>\n",
       "      <th>818</th>\n",
       "      <td>atis_flight</td>\n",
       "      <td>i would like to book a round trip flight from...</td>\n",
       "    </tr>\n",
       "    <tr>\n",
       "      <th>819</th>\n",
       "      <td>atis_flight</td>\n",
       "      <td>find me a flight that flies from memphis to t...</td>\n",
       "    </tr>\n",
       "  </tbody>\n",
       "</table>\n",
       "<p>820 rows × 2 columns</p>\n",
       "</div>"
      ],
      "text/plain": [
       "          target                                               text\n",
       "0          other                         What is \"yaw\" in aviation?\n",
       "1          other                       What is a \"deadhead\" flight?\n",
       "2          other                       What is \"Alternate Airport\"?\n",
       "3          other    What is the purpose of ailerons on an aircraft?\n",
       "4          other                    What is \"decision height\" (DH)?\n",
       "..           ...                                                ...\n",
       "815  atis_flight   please find all the flights from cincinnati t...\n",
       "816  atis_flight   find me a flight from cincinnati to any airpo...\n",
       "817  atis_flight   i'd like to fly from miami to chicago on amer...\n",
       "818  atis_flight   i would like to book a round trip flight from...\n",
       "819  atis_flight   find me a flight that flies from memphis to t...\n",
       "\n",
       "[820 rows x 2 columns]"
      ]
     },
     "execution_count": 6,
     "metadata": {},
     "output_type": "execute_result"
    }
   ],
   "source": [
    "test_data = pd.concat([qa_test_data, atis_test_data], ignore_index=True)\n",
    "\n",
    "test_data"
   ]
  },
  {
   "cell_type": "code",
   "execution_count": 8,
   "metadata": {},
   "outputs": [
    {
     "data": {
      "image/png": "[encoded data removed]",
      "text/plain": [
       "<Figure size 640x480 with 1 Axes>"
      ]
     },
     "metadata": {},
     "output_type": "display_data"
    }
   ],
   "source": [
    "train_data['target'].value_counts().plot(kind='bar')\n",
    "plt.show()"
   ]
  },
  {
   "cell_type": "code",
   "execution_count": 9,
   "metadata": {},
   "outputs": [
    {
     "data": {
      "image/png": "[encoded data removed]",
      "text/plain": [
       "<Figure size 640x480 with 1 Axes>"
      ]
     },
     "metadata": {},
     "output_type": "display_data"
    }
   ],
   "source": [
    "test_data['target'].value_counts().plot(kind='bar')\n",
    "plt.show()"
   ]
  },
  {
   "cell_type": "markdown",
   "metadata": {},
   "source": [
    "## Correção da distribuição de classes entre datasets"
   ]
  },
  {
   "cell_type": "markdown",
   "metadata": {},
   "source": [
    "Agora que temos nossos dados de treino e de teste carregados, veremos como está a distribuição de classes entre estes datasets."
   ]
  },
  {
   "cell_type": "code",
   "execution_count": 7,
   "metadata": {},
   "outputs": [
    {
     "name": "stdout",
     "output_type": "stream",
     "text": [
      "Training Data Distribution:\n",
      " target\n",
      "atis_flight            74.618359\n",
      "atis_airfare            8.609811\n",
      "atis_ground_service     5.190311\n",
      "atis_airline            3.195604\n",
      "atis_abbreviation       2.992062\n",
      "atis_aircraft           1.648687\n",
      "other                   1.607979\n",
      "atis_flight_time        1.099125\n",
      "atis_quantity           1.038062\n",
      "Name: proportion, dtype: float64\n",
      "\n",
      "Testing Data Distribution:\n",
      " target\n",
      "atis_flight            77.073171\n",
      "atis_airfare            5.853659\n",
      "atis_airline            4.634146\n",
      "atis_ground_service     4.390244\n",
      "atis_abbreviation       4.024390\n",
      "other                   2.439024\n",
      "atis_aircraft           1.097561\n",
      "atis_quantity           0.365854\n",
      "atis_flight_time        0.121951\n",
      "Name: proportion, dtype: float64\n"
     ]
    }
   ],
   "source": [
    "def check_stratification(train_data, test_data, target_column):\n",
    "    # Calculate the distribution in the training data\n",
    "    train_distribution = train_data[target_column].value_counts(normalize=True) * 100\n",
    "\n",
    "    # Calculate the distribution in the testing data\n",
    "    test_distribution = test_data[target_column].value_counts(normalize=True) * 100\n",
    "\n",
    "    # Print the distributions\n",
    "    print(\"Training Data Distribution:\\n\", train_distribution)\n",
    "    print(\"\\nTesting Data Distribution:\\n\", test_distribution)\n",
    "\n",
    "check_stratification(train_data, test_data, 'target')"
   ]
  },
  {
   "cell_type": "markdown",
   "metadata": {},
   "source": [
    "De acordo com o que foi mostrado acima, os dados podem ser melhor divididos para que possuam uma relação parecida de quantidade de classes. Enquanto a maior classe (`atis_flight`) é dominante em ambos datasets, percemos que há uma diferença notável nas proporções de outras classes. Por exemplo, `atis_airfare` possui uma propoção significativamente maior no dataset de treinamento quando comparado com o de testes. Por isso, iremos estratificar os dados."
   ]
  },
  {
   "cell_type": "code",
   "execution_count": 8,
   "metadata": {},
   "outputs": [
    {
     "name": "stdout",
     "output_type": "stream",
     "text": [
      "Training Data Distribution:\n",
      " target\n",
      "atis_flight            74.967292\n",
      "atis_airfare            8.220672\n",
      "atis_ground_service     5.080680\n",
      "atis_airline            3.401657\n",
      "atis_abbreviation       3.139991\n",
      "other                   1.722634\n",
      "atis_aircraft           1.569996\n",
      "atis_flight_time        0.959442\n",
      "atis_quantity           0.937636\n",
      "Name: proportion, dtype: float64\n",
      "\n",
      "Testing Data Distribution:\n",
      " target\n",
      "atis_flight            74.978204\n",
      "atis_airfare            8.195292\n",
      "atis_ground_service     5.056670\n",
      "atis_airline            3.400174\n",
      "atis_abbreviation       3.138622\n",
      "other                   1.743679\n",
      "atis_aircraft           1.569311\n",
      "atis_quantity           0.959024\n",
      "atis_flight_time        0.959024\n",
      "Name: proportion, dtype: float64\n"
     ]
    }
   ],
   "source": [
    "from sklearn.model_selection import train_test_split\n",
    "\n",
    "# Improve data stratification\n",
    "data = pd.concat([test_data, train_data], ignore_index=True)\n",
    "X = data.drop('target', axis=1)  # Features\n",
    "y = data['target']  # Target variable\n",
    "\n",
    "# Splitting the data into train and test sets while stratifying on the target variable\n",
    "X_train, X_val, y_train, y_val = train_test_split(X, y, test_size=0.2, stratify=y, random_state=42)\n",
    "\n",
    "train_data = pd.concat([X_train, y_train], axis=1)\n",
    "train_data = train_data.reset_index()\n",
    "\n",
    "test_data = pd.concat([X_val, y_val], axis=1)\n",
    "test_data = test_data.reset_index()\n",
    "\n",
    "check_stratification(train_data, test_data, 'target')"
   ]
  },
  {
   "cell_type": "markdown",
   "metadata": {},
   "source": [
    "Como podemos notar, agora os dados estão melhores distribuidos. Isso será útil para a avaliação dos modelos, gerando uma avaliação mais justa."
   ]
  },
  {
   "cell_type": "markdown",
   "metadata": {},
   "source": [
    "Com os dados carregados, iremos seguir para o treinamento dos modelos. Não fizemos um pré tratamento dos dados porque não temos uma quantidade significativa de dados. Além disso, os textos que serão colocados para treinamento são curtos. Esse ponto foi discutido em acompanhamento com o professor."
   ]
  },
  {
   "cell_type": "markdown",
   "metadata": {},
   "source": [
    "# SVM"
   ]
  },
  {
   "cell_type": "markdown",
   "metadata": {},
   "source": [
    "Iremos construir o modelo SVM utilizando bag of words para representar os textos."
   ]
  },
  {
   "cell_type": "markdown",
   "metadata": {},
   "source": [
    "## Bag of Words"
   ]
  },
  {
   "cell_type": "code",
   "execution_count": 10,
   "metadata": {},
   "outputs": [
    {
     "data": {
      "text/html": [
       "<style>#sk-container-id-1 {\n",
       "  /* Definition of color scheme common for light and dark mode */\n",
       "  --sklearn-color-text: black;\n",
       "  --sklearn-color-line: gray;\n",
       "  /* Definition of color scheme for unfitted estimators */\n",
       "  --sklearn-color-unfitted-level-0: #fff5e6;\n",
       "  --sklearn-color-unfitted-level-1: #f6e4d2;\n",
       "  --sklearn-color-unfitted-level-2: #ffe0b3;\n",
       "  --sklearn-color-unfitted-level-3: chocolate;\n",
       "  /* Definition of color scheme for fitted estimators */\n",
       "  --sklearn-color-fitted-level-0: #f0f8ff;\n",
       "  --sklearn-color-fitted-level-1: #d4ebff;\n",
       "  --sklearn-color-fitted-level-2: #b3dbfd;\n",
       "  --sklearn-color-fitted-level-3: cornflowerblue;\n",
       "\n",
       "  /* Specific color for light theme */\n",
       "  --sklearn-color-text-on-default-background: var(--sg-text-color, var(--theme-code-foreground, var(--jp-content-font-color1, black)));\n",
       "  --sklearn-color-background: var(--sg-background-color, var(--theme-background, var(--jp-layout-color0, white)));\n",
       "  --sklearn-color-border-box: var(--sg-text-color, var(--theme-code-foreground, var(--jp-content-font-color1, black)));\n",
       "  --sklearn-color-icon: #696969;\n",
       "\n",
       "  @media (prefers-color-scheme: dark) {\n",
       "    /* Redefinition of color scheme for dark theme */\n",
       "    --sklearn-color-text-on-default-background: var(--sg-text-color, var(--theme-code-foreground, var(--jp-content-font-color1, white)));\n",
       "    --sklearn-color-background: var(--sg-background-color, var(--theme-background, var(--jp-layout-color0, #111)));\n",
       "    --sklearn-color-border-box: var(--sg-text-color, var(--theme-code-foreground, var(--jp-content-font-color1, white)));\n",
       "    --sklearn-color-icon: #878787;\n",
       "  }\n",
       "}\n",
       "\n",
       "#sk-container-id-1 {\n",
       "  color: var(--sklearn-color-text);\n",
       "}\n",
       "\n",
       "#sk-container-id-1 pre {\n",
       "  padding: 0;\n",
       "}\n",
       "\n",
       "#sk-container-id-1 input.sk-hidden--visually {\n",
       "  border: 0;\n",
       "  clip: rect(1px 1px 1px 1px);\n",
       "  clip: rect(1px, 1px, 1px, 1px);\n",
       "  height: 1px;\n",
       "  margin: -1px;\n",
       "  overflow: hidden;\n",
       "  padding: 0;\n",
       "  position: absolute;\n",
       "  width: 1px;\n",
       "}\n",
       "\n",
       "#sk-container-id-1 div.sk-dashed-wrapped {\n",
       "  border: 1px dashed var(--sklearn-color-line);\n",
       "  margin: 0 0.4em 0.5em 0.4em;\n",
       "  box-sizing: border-box;\n",
       "  padding-bottom: 0.4em;\n",
       "  background-color: var(--sklearn-color-background);\n",
       "}\n",
       "\n",
       "#sk-container-id-1 div.sk-container {\n",
       "  /* jupyter's `normalize.less` sets `[hidden] { display: none; }`\n",
       "     but bootstrap.min.css set `[hidden] { display: none !important; }`\n",
       "     so we also need the `!important` here to be able to override the\n",
       "     default hidden behavior on the sphinx rendered scikit-learn.org.\n",
       "     See: https://github.com/scikit-learn/scikit-learn/issues/21755 */\n",
       "  display: inline-block !important;\n",
       "  position: relative;\n",
       "}\n",
       "\n",
       "#sk-container-id-1 div.sk-text-repr-fallback {\n",
       "  display: none;\n",
       "}\n",
       "\n",
       "div.sk-parallel-item,\n",
       "div.sk-serial,\n",
       "div.sk-item {\n",
       "  /* draw centered vertical line to link estimators */\n",
       "  background-image: linear-gradient(var(--sklearn-color-text-on-default-background), var(--sklearn-color-text-on-default-background));\n",
       "  background-size: 2px 100%;\n",
       "  background-repeat: no-repeat;\n",
       "  background-position: center center;\n",
       "}\n",
       "\n",
       "/* Parallel-specific style estimator block */\n",
       "\n",
       "#sk-container-id-1 div.sk-parallel-item::after {\n",
       "  content: \"\";\n",
       "  width: 100%;\n",
       "  border-bottom: 2px solid var(--sklearn-color-text-on-default-background);\n",
       "  flex-grow: 1;\n",
       "}\n",
       "\n",
       "#sk-container-id-1 div.sk-parallel {\n",
       "  display: flex;\n",
       "  align-items: stretch;\n",
       "  justify-content: center;\n",
       "  background-color: var(--sklearn-color-background);\n",
       "  position: relative;\n",
       "}\n",
       "\n",
       "#sk-container-id-1 div.sk-parallel-item {\n",
       "  display: flex;\n",
       "  flex-direction: column;\n",
       "}\n",
       "\n",
       "#sk-container-id-1 div.sk-parallel-item:first-child::after {\n",
       "  align-self: flex-end;\n",
       "  width: 50%;\n",
       "}\n",
       "\n",
       "#sk-container-id-1 div.sk-parallel-item:last-child::after {\n",
       "  align-self: flex-start;\n",
       "  width: 50%;\n",
       "}\n",
       "\n",
       "#sk-container-id-1 div.sk-parallel-item:only-child::after {\n",
       "  width: 0;\n",
       "}\n",
       "\n",
       "/* Serial-specific style estimator block */\n",
       "\n",
       "#sk-container-id-1 div.sk-serial {\n",
       "  display: flex;\n",
       "  flex-direction: column;\n",
       "  align-items: center;\n",
       "  background-color: var(--sklearn-color-background);\n",
       "  padding-right: 1em;\n",
       "  padding-left: 1em;\n",
       "}\n",
       "\n",
       "\n",
       "/* Toggleable style: style used for estimator/Pipeline/ColumnTransformer box that is\n",
       "clickable and can be expanded/collapsed.\n",
       "- Pipeline and ColumnTransformer use this feature and define the default style\n",
       "- Estimators will overwrite some part of the style using the `sk-estimator` class\n",
       "*/\n",
       "\n",
       "/* Pipeline and ColumnTransformer style (default) */\n",
       "\n",
       "#sk-container-id-1 div.sk-toggleable {\n",
       "  /* Default theme specific background. It is overwritten whether we have a\n",
       "  specific estimator or a Pipeline/ColumnTransformer */\n",
       "  background-color: var(--sklearn-color-background);\n",
       "}\n",
       "\n",
       "/* Toggleable label */\n",
       "#sk-container-id-1 label.sk-toggleable__label {\n",
       "  cursor: pointer;\n",
       "  display: block;\n",
       "  width: 100%;\n",
       "  margin-bottom: 0;\n",
       "  padding: 0.5em;\n",
       "  box-sizing: border-box;\n",
       "  text-align: center;\n",
       "}\n",
       "\n",
       "#sk-container-id-1 label.sk-toggleable__label-arrow:before {\n",
       "  /* Arrow on the left of the label */\n",
       "  content: \"▸\";\n",
       "  float: left;\n",
       "  margin-right: 0.25em;\n",
       "  color: var(--sklearn-color-icon);\n",
       "}\n",
       "\n",
       "#sk-container-id-1 label.sk-toggleable__label-arrow:hover:before {\n",
       "  color: var(--sklearn-color-text);\n",
       "}\n",
       "\n",
       "/* Toggleable content - dropdown */\n",
       "\n",
       "#sk-container-id-1 div.sk-toggleable__content {\n",
       "  max-height: 0;\n",
       "  max-width: 0;\n",
       "  overflow: hidden;\n",
       "  text-align: left;\n",
       "  /* unfitted */\n",
       "  background-color: var(--sklearn-color-unfitted-level-0);\n",
       "}\n",
       "\n",
       "#sk-container-id-1 div.sk-toggleable__content.fitted {\n",
       "  /* fitted */\n",
       "  background-color: var(--sklearn-color-fitted-level-0);\n",
       "}\n",
       "\n",
       "#sk-container-id-1 div.sk-toggleable__content pre {\n",
       "  margin: 0.2em;\n",
       "  border-radius: 0.25em;\n",
       "  color: var(--sklearn-color-text);\n",
       "  /* unfitted */\n",
       "  background-color: var(--sklearn-color-unfitted-level-0);\n",
       "}\n",
       "\n",
       "#sk-container-id-1 div.sk-toggleable__content.fitted pre {\n",
       "  /* unfitted */\n",
       "  background-color: var(--sklearn-color-fitted-level-0);\n",
       "}\n",
       "\n",
       "#sk-container-id-1 input.sk-toggleable__control:checked~div.sk-toggleable__content {\n",
       "  /* Expand drop-down */\n",
       "  max-height: 200px;\n",
       "  max-width: 100%;\n",
       "  overflow: auto;\n",
       "}\n",
       "\n",
       "#sk-container-id-1 input.sk-toggleable__control:checked~label.sk-toggleable__label-arrow:before {\n",
       "  content: \"▾\";\n",
       "}\n",
       "\n",
       "/* Pipeline/ColumnTransformer-specific style */\n",
       "\n",
       "#sk-container-id-1 div.sk-label input.sk-toggleable__control:checked~label.sk-toggleable__label {\n",
       "  color: var(--sklearn-color-text);\n",
       "  background-color: var(--sklearn-color-unfitted-level-2);\n",
       "}\n",
       "\n",
       "#sk-container-id-1 div.sk-label.fitted input.sk-toggleable__control:checked~label.sk-toggleable__label {\n",
       "  background-color: var(--sklearn-color-fitted-level-2);\n",
       "}\n",
       "\n",
       "/* Estimator-specific style */\n",
       "\n",
       "/* Colorize estimator box */\n",
       "#sk-container-id-1 div.sk-estimator input.sk-toggleable__control:checked~label.sk-toggleable__label {\n",
       "  /* unfitted */\n",
       "  background-color: var(--sklearn-color-unfitted-level-2);\n",
       "}\n",
       "\n",
       "#sk-container-id-1 div.sk-estimator.fitted input.sk-toggleable__control:checked~label.sk-toggleable__label {\n",
       "  /* fitted */\n",
       "  background-color: var(--sklearn-color-fitted-level-2);\n",
       "}\n",
       "\n",
       "#sk-container-id-1 div.sk-label label.sk-toggleable__label,\n",
       "#sk-container-id-1 div.sk-label label {\n",
       "  /* The background is the default theme color */\n",
       "  color: var(--sklearn-color-text-on-default-background);\n",
       "}\n",
       "\n",
       "/* On hover, darken the color of the background */\n",
       "#sk-container-id-1 div.sk-label:hover label.sk-toggleable__label {\n",
       "  color: var(--sklearn-color-text);\n",
       "  background-color: var(--sklearn-color-unfitted-level-2);\n",
       "}\n",
       "\n",
       "/* Label box, darken color on hover, fitted */\n",
       "#sk-container-id-1 div.sk-label.fitted:hover label.sk-toggleable__label.fitted {\n",
       "  color: var(--sklearn-color-text);\n",
       "  background-color: var(--sklearn-color-fitted-level-2);\n",
       "}\n",
       "\n",
       "/* Estimator label */\n",
       "\n",
       "#sk-container-id-1 div.sk-label label {\n",
       "  font-family: monospace;\n",
       "  font-weight: bold;\n",
       "  display: inline-block;\n",
       "  line-height: 1.2em;\n",
       "}\n",
       "\n",
       "#sk-container-id-1 div.sk-label-container {\n",
       "  text-align: center;\n",
       "}\n",
       "\n",
       "/* Estimator-specific */\n",
       "#sk-container-id-1 div.sk-estimator {\n",
       "  font-family: monospace;\n",
       "  border: 1px dotted var(--sklearn-color-border-box);\n",
       "  border-radius: 0.25em;\n",
       "  box-sizing: border-box;\n",
       "  margin-bottom: 0.5em;\n",
       "  /* unfitted */\n",
       "  background-color: var(--sklearn-color-unfitted-level-0);\n",
       "}\n",
       "\n",
       "#sk-container-id-1 div.sk-estimator.fitted {\n",
       "  /* fitted */\n",
       "  background-color: var(--sklearn-color-fitted-level-0);\n",
       "}\n",
       "\n",
       "/* on hover */\n",
       "#sk-container-id-1 div.sk-estimator:hover {\n",
       "  /* unfitted */\n",
       "  background-color: var(--sklearn-color-unfitted-level-2);\n",
       "}\n",
       "\n",
       "#sk-container-id-1 div.sk-estimator.fitted:hover {\n",
       "  /* fitted */\n",
       "  background-color: var(--sklearn-color-fitted-level-2);\n",
       "}\n",
       "\n",
       "/* Specification for estimator info (e.g. \"i\" and \"?\") */\n",
       "\n",
       "/* Common style for \"i\" and \"?\" */\n",
       "\n",
       ".sk-estimator-doc-link,\n",
       "a:link.sk-estimator-doc-link,\n",
       "a:visited.sk-estimator-doc-link {\n",
       "  float: right;\n",
       "  font-size: smaller;\n",
       "  line-height: 1em;\n",
       "  font-family: monospace;\n",
       "  background-color: var(--sklearn-color-background);\n",
       "  border-radius: 1em;\n",
       "  height: 1em;\n",
       "  width: 1em;\n",
       "  text-decoration: none !important;\n",
       "  margin-left: 1ex;\n",
       "  /* unfitted */\n",
       "  border: var(--sklearn-color-unfitted-level-1) 1pt solid;\n",
       "  color: var(--sklearn-color-unfitted-level-1);\n",
       "}\n",
       "\n",
       ".sk-estimator-doc-link.fitted,\n",
       "a:link.sk-estimator-doc-link.fitted,\n",
       "a:visited.sk-estimator-doc-link.fitted {\n",
       "  /* fitted */\n",
       "  border: var(--sklearn-color-fitted-level-1) 1pt solid;\n",
       "  color: var(--sklearn-color-fitted-level-1);\n",
       "}\n",
       "\n",
       "/* On hover */\n",
       "div.sk-estimator:hover .sk-estimator-doc-link:hover,\n",
       ".sk-estimator-doc-link:hover,\n",
       "div.sk-label-container:hover .sk-estimator-doc-link:hover,\n",
       ".sk-estimator-doc-link:hover {\n",
       "  /* unfitted */\n",
       "  background-color: var(--sklearn-color-unfitted-level-3);\n",
       "  color: var(--sklearn-color-background);\n",
       "  text-decoration: none;\n",
       "}\n",
       "\n",
       "div.sk-estimator.fitted:hover .sk-estimator-doc-link.fitted:hover,\n",
       ".sk-estimator-doc-link.fitted:hover,\n",
       "div.sk-label-container:hover .sk-estimator-doc-link.fitted:hover,\n",
       ".sk-estimator-doc-link.fitted:hover {\n",
       "  /* fitted */\n",
       "  background-color: var(--sklearn-color-fitted-level-3);\n",
       "  color: var(--sklearn-color-background);\n",
       "  text-decoration: none;\n",
       "}\n",
       "\n",
       "/* Span, style for the box shown on hovering the info icon */\n",
       ".sk-estimator-doc-link span {\n",
       "  display: none;\n",
       "  z-index: 9999;\n",
       "  position: relative;\n",
       "  font-weight: normal;\n",
       "  right: .2ex;\n",
       "  padding: .5ex;\n",
       "  margin: .5ex;\n",
       "  width: min-content;\n",
       "  min-width: 20ex;\n",
       "  max-width: 50ex;\n",
       "  color: var(--sklearn-color-text);\n",
       "  box-shadow: 2pt 2pt 4pt #999;\n",
       "  /* unfitted */\n",
       "  background: var(--sklearn-color-unfitted-level-0);\n",
       "  border: .5pt solid var(--sklearn-color-unfitted-level-3);\n",
       "}\n",
       "\n",
       ".sk-estimator-doc-link.fitted span {\n",
       "  /* fitted */\n",
       "  background: var(--sklearn-color-fitted-level-0);\n",
       "  border: var(--sklearn-color-fitted-level-3);\n",
       "}\n",
       "\n",
       ".sk-estimator-doc-link:hover span {\n",
       "  display: block;\n",
       "}\n",
       "\n",
       "/* \"?\"-specific style due to the `<a>` HTML tag */\n",
       "\n",
       "#sk-container-id-1 a.estimator_doc_link {\n",
       "  float: right;\n",
       "  font-size: 1rem;\n",
       "  line-height: 1em;\n",
       "  font-family: monospace;\n",
       "  background-color: var(--sklearn-color-background);\n",
       "  border-radius: 1rem;\n",
       "  height: 1rem;\n",
       "  width: 1rem;\n",
       "  text-decoration: none;\n",
       "  /* unfitted */\n",
       "  color: var(--sklearn-color-unfitted-level-1);\n",
       "  border: var(--sklearn-color-unfitted-level-1) 1pt solid;\n",
       "}\n",
       "\n",
       "#sk-container-id-1 a.estimator_doc_link.fitted {\n",
       "  /* fitted */\n",
       "  border: var(--sklearn-color-fitted-level-1) 1pt solid;\n",
       "  color: var(--sklearn-color-fitted-level-1);\n",
       "}\n",
       "\n",
       "/* On hover */\n",
       "#sk-container-id-1 a.estimator_doc_link:hover {\n",
       "  /* unfitted */\n",
       "  background-color: var(--sklearn-color-unfitted-level-3);\n",
       "  color: var(--sklearn-color-background);\n",
       "  text-decoration: none;\n",
       "}\n",
       "\n",
       "#sk-container-id-1 a.estimator_doc_link.fitted:hover {\n",
       "  /* fitted */\n",
       "  background-color: var(--sklearn-color-fitted-level-3);\n",
       "}\n",
       "</style><div id=\"sk-container-id-1\" class=\"sk-top-container\"><div class=\"sk-text-repr-fallback\"><pre>TfidfVectorizer()</pre><b>In a Jupyter environment, please rerun this cell to show the HTML representation or trust the notebook. <br />On GitHub, the HTML representation is unable to render, please try loading this page with nbviewer.org.</b></div><div class=\"sk-container\" hidden><div class=\"sk-item\"><div class=\"sk-estimator fitted sk-toggleable\"><input class=\"sk-toggleable__control sk-hidden--visually\" id=\"sk-estimator-id-1\" type=\"checkbox\" checked><label for=\"sk-estimator-id-1\" class=\"sk-toggleable__label fitted sk-toggleable__label-arrow fitted\">&nbsp;&nbsp;TfidfVectorizer<a class=\"sk-estimator-doc-link fitted\" rel=\"noreferrer\" target=\"_blank\" href=\"https://scikit-learn.org/1.4/modules/generated/sklearn.feature_extraction.text.TfidfVectorizer.html\">?<span>Documentation for TfidfVectorizer</span></a><span class=\"sk-estimator-doc-link fitted\">i<span>Fitted</span></span></label><div class=\"sk-toggleable__content fitted\"><pre>TfidfVectorizer()</pre></div> </div></div></div></div>"
      ],
      "text/plain": [
       "TfidfVectorizer()"
      ]
     },
     "execution_count": 10,
     "metadata": {},
     "output_type": "execute_result"
    }
   ],
   "source": [
    "from sklearn.feature_extraction.text import TfidfVectorizer\n",
    "\n",
    "tfidf_vectorizer = TfidfVectorizer()\n",
    "tfidf_vectorizer.fit(train_data[\"text\"])"
   ]
  },
  {
   "cell_type": "code",
   "execution_count": 11,
   "metadata": {},
   "outputs": [
    {
     "data": {
      "text/plain": [
       "<4586x955 sparse matrix of type '<class 'numpy.float64'>'\n",
       "\twith 47260 stored elements in Compressed Sparse Row format>"
      ]
     },
     "execution_count": 11,
     "metadata": {},
     "output_type": "execute_result"
    }
   ],
   "source": [
    "X_train = tfidf_vectorizer.transform(train_data[\"text\"])\n",
    "\n",
    "X_train"
   ]
  },
  {
   "cell_type": "code",
   "execution_count": 12,
   "metadata": {},
   "outputs": [
    {
     "data": {
      "text/plain": [
       "<1147x955 sparse matrix of type '<class 'numpy.float64'>'\n",
       "\twith 11774 stored elements in Compressed Sparse Row format>"
      ]
     },
     "execution_count": 12,
     "metadata": {},
     "output_type": "execute_result"
    }
   ],
   "source": [
    "X_val = tfidf_vectorizer.transform(test_data[\"text\"])\n",
    "\n",
    "X_val"
   ]
  },
  {
   "cell_type": "markdown",
   "metadata": {},
   "source": [
    "## Classificador SVM"
   ]
  },
  {
   "cell_type": "markdown",
   "metadata": {},
   "source": [
    "### Definição e treinamento"
   ]
  },
  {
   "cell_type": "code",
   "execution_count": 13,
   "metadata": {},
   "outputs": [
    {
     "data": {
      "text/html": [
       "<style>#sk-container-id-2 {\n",
       "  /* Definition of color scheme common for light and dark mode */\n",
       "  --sklearn-color-text: black;\n",
       "  --sklearn-color-line: gray;\n",
       "  /* Definition of color scheme for unfitted estimators */\n",
       "  --sklearn-color-unfitted-level-0: #fff5e6;\n",
       "  --sklearn-color-unfitted-level-1: #f6e4d2;\n",
       "  --sklearn-color-unfitted-level-2: #ffe0b3;\n",
       "  --sklearn-color-unfitted-level-3: chocolate;\n",
       "  /* Definition of color scheme for fitted estimators */\n",
       "  --sklearn-color-fitted-level-0: #f0f8ff;\n",
       "  --sklearn-color-fitted-level-1: #d4ebff;\n",
       "  --sklearn-color-fitted-level-2: #b3dbfd;\n",
       "  --sklearn-color-fitted-level-3: cornflowerblue;\n",
       "\n",
       "  /* Specific color for light theme */\n",
       "  --sklearn-color-text-on-default-background: var(--sg-text-color, var(--theme-code-foreground, var(--jp-content-font-color1, black)));\n",
       "  --sklearn-color-background: var(--sg-background-color, var(--theme-background, var(--jp-layout-color0, white)));\n",
       "  --sklearn-color-border-box: var(--sg-text-color, var(--theme-code-foreground, var(--jp-content-font-color1, black)));\n",
       "  --sklearn-color-icon: #696969;\n",
       "\n",
       "  @media (prefers-color-scheme: dark) {\n",
       "    /* Redefinition of color scheme for dark theme */\n",
       "    --sklearn-color-text-on-default-background: var(--sg-text-color, var(--theme-code-foreground, var(--jp-content-font-color1, white)));\n",
       "    --sklearn-color-background: var(--sg-background-color, var(--theme-background, var(--jp-layout-color0, #111)));\n",
       "    --sklearn-color-border-box: var(--sg-text-color, var(--theme-code-foreground, var(--jp-content-font-color1, white)));\n",
       "    --sklearn-color-icon: #878787;\n",
       "  }\n",
       "}\n",
       "\n",
       "#sk-container-id-2 {\n",
       "  color: var(--sklearn-color-text);\n",
       "}\n",
       "\n",
       "#sk-container-id-2 pre {\n",
       "  padding: 0;\n",
       "}\n",
       "\n",
       "#sk-container-id-2 input.sk-hidden--visually {\n",
       "  border: 0;\n",
       "  clip: rect(1px 1px 1px 1px);\n",
       "  clip: rect(1px, 1px, 1px, 1px);\n",
       "  height: 1px;\n",
       "  margin: -1px;\n",
       "  overflow: hidden;\n",
       "  padding: 0;\n",
       "  position: absolute;\n",
       "  width: 1px;\n",
       "}\n",
       "\n",
       "#sk-container-id-2 div.sk-dashed-wrapped {\n",
       "  border: 1px dashed var(--sklearn-color-line);\n",
       "  margin: 0 0.4em 0.5em 0.4em;\n",
       "  box-sizing: border-box;\n",
       "  padding-bottom: 0.4em;\n",
       "  background-color: var(--sklearn-color-background);\n",
       "}\n",
       "\n",
       "#sk-container-id-2 div.sk-container {\n",
       "  /* jupyter's `normalize.less` sets `[hidden] { display: none; }`\n",
       "     but bootstrap.min.css set `[hidden] { display: none !important; }`\n",
       "     so we also need the `!important` here to be able to override the\n",
       "     default hidden behavior on the sphinx rendered scikit-learn.org.\n",
       "     See: https://github.com/scikit-learn/scikit-learn/issues/21755 */\n",
       "  display: inline-block !important;\n",
       "  position: relative;\n",
       "}\n",
       "\n",
       "#sk-container-id-2 div.sk-text-repr-fallback {\n",
       "  display: none;\n",
       "}\n",
       "\n",
       "div.sk-parallel-item,\n",
       "div.sk-serial,\n",
       "div.sk-item {\n",
       "  /* draw centered vertical line to link estimators */\n",
       "  background-image: linear-gradient(var(--sklearn-color-text-on-default-background), var(--sklearn-color-text-on-default-background));\n",
       "  background-size: 2px 100%;\n",
       "  background-repeat: no-repeat;\n",
       "  background-position: center center;\n",
       "}\n",
       "\n",
       "/* Parallel-specific style estimator block */\n",
       "\n",
       "#sk-container-id-2 div.sk-parallel-item::after {\n",
       "  content: \"\";\n",
       "  width: 100%;\n",
       "  border-bottom: 2px solid var(--sklearn-color-text-on-default-background);\n",
       "  flex-grow: 1;\n",
       "}\n",
       "\n",
       "#sk-container-id-2 div.sk-parallel {\n",
       "  display: flex;\n",
       "  align-items: stretch;\n",
       "  justify-content: center;\n",
       "  background-color: var(--sklearn-color-background);\n",
       "  position: relative;\n",
       "}\n",
       "\n",
       "#sk-container-id-2 div.sk-parallel-item {\n",
       "  display: flex;\n",
       "  flex-direction: column;\n",
       "}\n",
       "\n",
       "#sk-container-id-2 div.sk-parallel-item:first-child::after {\n",
       "  align-self: flex-end;\n",
       "  width: 50%;\n",
       "}\n",
       "\n",
       "#sk-container-id-2 div.sk-parallel-item:last-child::after {\n",
       "  align-self: flex-start;\n",
       "  width: 50%;\n",
       "}\n",
       "\n",
       "#sk-container-id-2 div.sk-parallel-item:only-child::after {\n",
       "  width: 0;\n",
       "}\n",
       "\n",
       "/* Serial-specific style estimator block */\n",
       "\n",
       "#sk-container-id-2 div.sk-serial {\n",
       "  display: flex;\n",
       "  flex-direction: column;\n",
       "  align-items: center;\n",
       "  background-color: var(--sklearn-color-background);\n",
       "  padding-right: 1em;\n",
       "  padding-left: 1em;\n",
       "}\n",
       "\n",
       "\n",
       "/* Toggleable style: style used for estimator/Pipeline/ColumnTransformer box that is\n",
       "clickable and can be expanded/collapsed.\n",
       "- Pipeline and ColumnTransformer use this feature and define the default style\n",
       "- Estimators will overwrite some part of the style using the `sk-estimator` class\n",
       "*/\n",
       "\n",
       "/* Pipeline and ColumnTransformer style (default) */\n",
       "\n",
       "#sk-container-id-2 div.sk-toggleable {\n",
       "  /* Default theme specific background. It is overwritten whether we have a\n",
       "  specific estimator or a Pipeline/ColumnTransformer */\n",
       "  background-color: var(--sklearn-color-background);\n",
       "}\n",
       "\n",
       "/* Toggleable label */\n",
       "#sk-container-id-2 label.sk-toggleable__label {\n",
       "  cursor: pointer;\n",
       "  display: block;\n",
       "  width: 100%;\n",
       "  margin-bottom: 0;\n",
       "  padding: 0.5em;\n",
       "  box-sizing: border-box;\n",
       "  text-align: center;\n",
       "}\n",
       "\n",
       "#sk-container-id-2 label.sk-toggleable__label-arrow:before {\n",
       "  /* Arrow on the left of the label */\n",
       "  content: \"▸\";\n",
       "  float: left;\n",
       "  margin-right: 0.25em;\n",
       "  color: var(--sklearn-color-icon);\n",
       "}\n",
       "\n",
       "#sk-container-id-2 label.sk-toggleable__label-arrow:hover:before {\n",
       "  color: var(--sklearn-color-text);\n",
       "}\n",
       "\n",
       "/* Toggleable content - dropdown */\n",
       "\n",
       "#sk-container-id-2 div.sk-toggleable__content {\n",
       "  max-height: 0;\n",
       "  max-width: 0;\n",
       "  overflow: hidden;\n",
       "  text-align: left;\n",
       "  /* unfitted */\n",
       "  background-color: var(--sklearn-color-unfitted-level-0);\n",
       "}\n",
       "\n",
       "#sk-container-id-2 div.sk-toggleable__content.fitted {\n",
       "  /* fitted */\n",
       "  background-color: var(--sklearn-color-fitted-level-0);\n",
       "}\n",
       "\n",
       "#sk-container-id-2 div.sk-toggleable__content pre {\n",
       "  margin: 0.2em;\n",
       "  border-radius: 0.25em;\n",
       "  color: var(--sklearn-color-text);\n",
       "  /* unfitted */\n",
       "  background-color: var(--sklearn-color-unfitted-level-0);\n",
       "}\n",
       "\n",
       "#sk-container-id-2 div.sk-toggleable__content.fitted pre {\n",
       "  /* unfitted */\n",
       "  background-color: var(--sklearn-color-fitted-level-0);\n",
       "}\n",
       "\n",
       "#sk-container-id-2 input.sk-toggleable__control:checked~div.sk-toggleable__content {\n",
       "  /* Expand drop-down */\n",
       "  max-height: 200px;\n",
       "  max-width: 100%;\n",
       "  overflow: auto;\n",
       "}\n",
       "\n",
       "#sk-container-id-2 input.sk-toggleable__control:checked~label.sk-toggleable__label-arrow:before {\n",
       "  content: \"▾\";\n",
       "}\n",
       "\n",
       "/* Pipeline/ColumnTransformer-specific style */\n",
       "\n",
       "#sk-container-id-2 div.sk-label input.sk-toggleable__control:checked~label.sk-toggleable__label {\n",
       "  color: var(--sklearn-color-text);\n",
       "  background-color: var(--sklearn-color-unfitted-level-2);\n",
       "}\n",
       "\n",
       "#sk-container-id-2 div.sk-label.fitted input.sk-toggleable__control:checked~label.sk-toggleable__label {\n",
       "  background-color: var(--sklearn-color-fitted-level-2);\n",
       "}\n",
       "\n",
       "/* Estimator-specific style */\n",
       "\n",
       "/* Colorize estimator box */\n",
       "#sk-container-id-2 div.sk-estimator input.sk-toggleable__control:checked~label.sk-toggleable__label {\n",
       "  /* unfitted */\n",
       "  background-color: var(--sklearn-color-unfitted-level-2);\n",
       "}\n",
       "\n",
       "#sk-container-id-2 div.sk-estimator.fitted input.sk-toggleable__control:checked~label.sk-toggleable__label {\n",
       "  /* fitted */\n",
       "  background-color: var(--sklearn-color-fitted-level-2);\n",
       "}\n",
       "\n",
       "#sk-container-id-2 div.sk-label label.sk-toggleable__label,\n",
       "#sk-container-id-2 div.sk-label label {\n",
       "  /* The background is the default theme color */\n",
       "  color: var(--sklearn-color-text-on-default-background);\n",
       "}\n",
       "\n",
       "/* On hover, darken the color of the background */\n",
       "#sk-container-id-2 div.sk-label:hover label.sk-toggleable__label {\n",
       "  color: var(--sklearn-color-text);\n",
       "  background-color: var(--sklearn-color-unfitted-level-2);\n",
       "}\n",
       "\n",
       "/* Label box, darken color on hover, fitted */\n",
       "#sk-container-id-2 div.sk-label.fitted:hover label.sk-toggleable__label.fitted {\n",
       "  color: var(--sklearn-color-text);\n",
       "  background-color: var(--sklearn-color-fitted-level-2);\n",
       "}\n",
       "\n",
       "/* Estimator label */\n",
       "\n",
       "#sk-container-id-2 div.sk-label label {\n",
       "  font-family: monospace;\n",
       "  font-weight: bold;\n",
       "  display: inline-block;\n",
       "  line-height: 1.2em;\n",
       "}\n",
       "\n",
       "#sk-container-id-2 div.sk-label-container {\n",
       "  text-align: center;\n",
       "}\n",
       "\n",
       "/* Estimator-specific */\n",
       "#sk-container-id-2 div.sk-estimator {\n",
       "  font-family: monospace;\n",
       "  border: 1px dotted var(--sklearn-color-border-box);\n",
       "  border-radius: 0.25em;\n",
       "  box-sizing: border-box;\n",
       "  margin-bottom: 0.5em;\n",
       "  /* unfitted */\n",
       "  background-color: var(--sklearn-color-unfitted-level-0);\n",
       "}\n",
       "\n",
       "#sk-container-id-2 div.sk-estimator.fitted {\n",
       "  /* fitted */\n",
       "  background-color: var(--sklearn-color-fitted-level-0);\n",
       "}\n",
       "\n",
       "/* on hover */\n",
       "#sk-container-id-2 div.sk-estimator:hover {\n",
       "  /* unfitted */\n",
       "  background-color: var(--sklearn-color-unfitted-level-2);\n",
       "}\n",
       "\n",
       "#sk-container-id-2 div.sk-estimator.fitted:hover {\n",
       "  /* fitted */\n",
       "  background-color: var(--sklearn-color-fitted-level-2);\n",
       "}\n",
       "\n",
       "/* Specification for estimator info (e.g. \"i\" and \"?\") */\n",
       "\n",
       "/* Common style for \"i\" and \"?\" */\n",
       "\n",
       ".sk-estimator-doc-link,\n",
       "a:link.sk-estimator-doc-link,\n",
       "a:visited.sk-estimator-doc-link {\n",
       "  float: right;\n",
       "  font-size: smaller;\n",
       "  line-height: 1em;\n",
       "  font-family: monospace;\n",
       "  background-color: var(--sklearn-color-background);\n",
       "  border-radius: 1em;\n",
       "  height: 1em;\n",
       "  width: 1em;\n",
       "  text-decoration: none !important;\n",
       "  margin-left: 1ex;\n",
       "  /* unfitted */\n",
       "  border: var(--sklearn-color-unfitted-level-1) 1pt solid;\n",
       "  color: var(--sklearn-color-unfitted-level-1);\n",
       "}\n",
       "\n",
       ".sk-estimator-doc-link.fitted,\n",
       "a:link.sk-estimator-doc-link.fitted,\n",
       "a:visited.sk-estimator-doc-link.fitted {\n",
       "  /* fitted */\n",
       "  border: var(--sklearn-color-fitted-level-1) 1pt solid;\n",
       "  color: var(--sklearn-color-fitted-level-1);\n",
       "}\n",
       "\n",
       "/* On hover */\n",
       "div.sk-estimator:hover .sk-estimator-doc-link:hover,\n",
       ".sk-estimator-doc-link:hover,\n",
       "div.sk-label-container:hover .sk-estimator-doc-link:hover,\n",
       ".sk-estimator-doc-link:hover {\n",
       "  /* unfitted */\n",
       "  background-color: var(--sklearn-color-unfitted-level-3);\n",
       "  color: var(--sklearn-color-background);\n",
       "  text-decoration: none;\n",
       "}\n",
       "\n",
       "div.sk-estimator.fitted:hover .sk-estimator-doc-link.fitted:hover,\n",
       ".sk-estimator-doc-link.fitted:hover,\n",
       "div.sk-label-container:hover .sk-estimator-doc-link.fitted:hover,\n",
       ".sk-estimator-doc-link.fitted:hover {\n",
       "  /* fitted */\n",
       "  background-color: var(--sklearn-color-fitted-level-3);\n",
       "  color: var(--sklearn-color-background);\n",
       "  text-decoration: none;\n",
       "}\n",
       "\n",
       "/* Span, style for the box shown on hovering the info icon */\n",
       ".sk-estimator-doc-link span {\n",
       "  display: none;\n",
       "  z-index: 9999;\n",
       "  position: relative;\n",
       "  font-weight: normal;\n",
       "  right: .2ex;\n",
       "  padding: .5ex;\n",
       "  margin: .5ex;\n",
       "  width: min-content;\n",
       "  min-width: 20ex;\n",
       "  max-width: 50ex;\n",
       "  color: var(--sklearn-color-text);\n",
       "  box-shadow: 2pt 2pt 4pt #999;\n",
       "  /* unfitted */\n",
       "  background: var(--sklearn-color-unfitted-level-0);\n",
       "  border: .5pt solid var(--sklearn-color-unfitted-level-3);\n",
       "}\n",
       "\n",
       ".sk-estimator-doc-link.fitted span {\n",
       "  /* fitted */\n",
       "  background: var(--sklearn-color-fitted-level-0);\n",
       "  border: var(--sklearn-color-fitted-level-3);\n",
       "}\n",
       "\n",
       ".sk-estimator-doc-link:hover span {\n",
       "  display: block;\n",
       "}\n",
       "\n",
       "/* \"?\"-specific style due to the `<a>` HTML tag */\n",
       "\n",
       "#sk-container-id-2 a.estimator_doc_link {\n",
       "  float: right;\n",
       "  font-size: 1rem;\n",
       "  line-height: 1em;\n",
       "  font-family: monospace;\n",
       "  background-color: var(--sklearn-color-background);\n",
       "  border-radius: 1rem;\n",
       "  height: 1rem;\n",
       "  width: 1rem;\n",
       "  text-decoration: none;\n",
       "  /* unfitted */\n",
       "  color: var(--sklearn-color-unfitted-level-1);\n",
       "  border: var(--sklearn-color-unfitted-level-1) 1pt solid;\n",
       "}\n",
       "\n",
       "#sk-container-id-2 a.estimator_doc_link.fitted {\n",
       "  /* fitted */\n",
       "  border: var(--sklearn-color-fitted-level-1) 1pt solid;\n",
       "  color: var(--sklearn-color-fitted-level-1);\n",
       "}\n",
       "\n",
       "/* On hover */\n",
       "#sk-container-id-2 a.estimator_doc_link:hover {\n",
       "  /* unfitted */\n",
       "  background-color: var(--sklearn-color-unfitted-level-3);\n",
       "  color: var(--sklearn-color-background);\n",
       "  text-decoration: none;\n",
       "}\n",
       "\n",
       "#sk-container-id-2 a.estimator_doc_link.fitted:hover {\n",
       "  /* fitted */\n",
       "  background-color: var(--sklearn-color-fitted-level-3);\n",
       "}\n",
       "</style><div id=\"sk-container-id-2\" class=\"sk-top-container\"><div class=\"sk-text-repr-fallback\"><pre>SVC(kernel=&#x27;linear&#x27;, random_state=42)</pre><b>In a Jupyter environment, please rerun this cell to show the HTML representation or trust the notebook. <br />On GitHub, the HTML representation is unable to render, please try loading this page with nbviewer.org.</b></div><div class=\"sk-container\" hidden><div class=\"sk-item\"><div class=\"sk-estimator fitted sk-toggleable\"><input class=\"sk-toggleable__control sk-hidden--visually\" id=\"sk-estimator-id-2\" type=\"checkbox\" checked><label for=\"sk-estimator-id-2\" class=\"sk-toggleable__label fitted sk-toggleable__label-arrow fitted\">&nbsp;&nbsp;SVC<a class=\"sk-estimator-doc-link fitted\" rel=\"noreferrer\" target=\"_blank\" href=\"https://scikit-learn.org/1.4/modules/generated/sklearn.svm.SVC.html\">?<span>Documentation for SVC</span></a><span class=\"sk-estimator-doc-link fitted\">i<span>Fitted</span></span></label><div class=\"sk-toggleable__content fitted\"><pre>SVC(kernel=&#x27;linear&#x27;, random_state=42)</pre></div> </div></div></div></div>"
      ],
      "text/plain": [
       "SVC(kernel='linear', random_state=42)"
      ]
     },
     "execution_count": 13,
     "metadata": {},
     "output_type": "execute_result"
    }
   ],
   "source": [
    "from sklearn.svm import SVC\n",
    "from sklearn.metrics import classification_report, accuracy_score\n",
    "\n",
    "# Initialize the SVM classifier with a linear kernel\n",
    "svm_classifier = SVC(kernel='linear', random_state=42)\n",
    "\n",
    "# Train the classifier using the BoW features from the training data\n",
    "svm_classifier.fit(X_train, train_data['target'])"
   ]
  },
  {
   "cell_type": "markdown",
   "metadata": {},
   "source": [
    "### Avaliação do Modelo"
   ]
  },
  {
   "cell_type": "code",
   "execution_count": 14,
   "metadata": {},
   "outputs": [
    {
     "name": "stdout",
     "output_type": "stream",
     "text": [
      "Accuracy on test data: 0.972101133391456\n",
      "\n",
      "Classification Report on test data:\n",
      "                      precision    recall  f1-score   support\n",
      "\n",
      "  atis_abbreviation       0.83      0.94      0.88        36\n",
      "      atis_aircraft       0.93      0.78      0.85        18\n",
      "       atis_airfare       0.94      0.97      0.95        94\n",
      "       atis_airline       0.93      0.97      0.95        39\n",
      "        atis_flight       0.98      0.99      0.99       860\n",
      "   atis_flight_time       1.00      0.73      0.84        11\n",
      "atis_ground_service       0.98      0.98      0.98        58\n",
      "      atis_quantity       0.91      0.91      0.91        11\n",
      "              other       1.00      0.65      0.79        20\n",
      "\n",
      "           accuracy                           0.97      1147\n",
      "          macro avg       0.94      0.88      0.90      1147\n",
      "       weighted avg       0.97      0.97      0.97      1147\n",
      "\n"
     ]
    }
   ],
   "source": [
    "# Predict the target values for the test data\n",
    "y_test_pred = svm_classifier.predict(X_val)\n",
    "\n",
    "# Evaluate the predictions against the actual target values from the test data\n",
    "print(\"Accuracy on test data:\", accuracy_score(test_data['target'], y_test_pred))\n",
    "print(\"\\nClassification Report on test data:\\n\", classification_report(test_data['target'], y_test_pred))"
   ]
  },
  {
   "cell_type": "markdown",
   "metadata": {},
   "source": [
    "Considerando que o tempo de treinamento do modelo levou menos de 1 segundo para ser realizado, podemos dizer que ele apresentou um bom desempenho na identificação das intenções dos nossos dados. Tivemos um valor de 0.97 para acurácia, o que reforça que teve o modelo teve um bom desempenho considerando suas limitações. Os dados, no entanto, estão desbalanceados. Mesmo assim, o modelo apresentou uma boa média para o f1-score de 0.90. Percebemos que `other` foi o mais penalizado no treinamento, apresentando um recall de 0.65."
   ]
  },
  {
   "cell_type": "markdown",
   "metadata": {},
   "source": [
    "# Word Embeddings"
   ]
  },
  {
   "cell_type": "markdown",
   "metadata": {},
   "source": [
    "Iremos seguir para o treinamento de deep learning. Estes, por sua vez, dependem de uma entrada dos dados diferente do BoW utilizado no SVM. Para tanto, iremos criar word embeddings a partir dos nossos dados.\n",
    "\n",
    "Para obtenção da representação vetorial dos dados, iremos utilizar [GloVe](https://nlp.stanford.edu/projects/glove/) no treinamento dos modelos CNN e LSTM."
   ]
  },
  {
   "cell_type": "markdown",
   "metadata": {},
   "source": [
    "## Tokenization"
   ]
  },
  {
   "cell_type": "markdown",
   "metadata": {},
   "source": [
    "Primeiramente, realizaremos a tokenização do nosso vocabulário."
   ]
  },
  {
   "cell_type": "code",
   "execution_count": null,
   "metadata": {},
   "outputs": [],
   "source": [
    "from tensorflow.keras.preprocessing.text import Tokenizer\n",
    "from tensorflow.keras.preprocessing.sequence import pad_sequences"
   ]
  },
  {
   "cell_type": "code",
   "execution_count": 16,
   "metadata": {},
   "outputs": [],
   "source": [
    "# Initialize the tokenizer\n",
    "tokenizer = Tokenizer()\n",
    "tokenizer.fit_on_texts(train_data[\"text\"])"
   ]
  },
  {
   "cell_type": "code",
   "execution_count": 17,
   "metadata": {},
   "outputs": [],
   "source": [
    "WORD_INDEX = tokenizer.word_index\n",
    "MAX_VOCAB_SIZE = len(WORD_INDEX) + 1"
   ]
  },
  {
   "cell_type": "code",
   "execution_count": 18,
   "metadata": {},
   "outputs": [],
   "source": [
    "# Get the maximum length of a sequence in the training data or test data\n",
    "max_seq_length_train = max([len(seq.split()) for seq in train_data[\"text\"]])\n",
    "max_seq_length_test = max([len(seq.split()) for seq in test_data[\"text\"]])\n",
    "INPUT_LENGTH = max(max_seq_length_train, max_seq_length_test)"
   ]
  },
  {
   "cell_type": "code",
   "execution_count": 19,
   "metadata": {},
   "outputs": [],
   "source": [
    "train_data_tokens = tokenizer.texts_to_sequences(train_data[\"text\"])\n",
    "padded_train_data = pad_sequences(train_data_tokens, maxlen=INPUT_LENGTH)"
   ]
  },
  {
   "cell_type": "code",
   "execution_count": 20,
   "metadata": {},
   "outputs": [],
   "source": [
    "test_data_tokens = tokenizer.texts_to_sequences(test_data[\"text\"])\n",
    "padded_test_data = pad_sequences(test_data_tokens, maxlen=INPUT_LENGTH)"
   ]
  },
  {
   "cell_type": "markdown",
   "metadata": {},
   "source": [
    "## Encode dos Targets"
   ]
  },
  {
   "cell_type": "markdown",
   "metadata": {},
   "source": [
    "Ems seguida, realizaremos o encode dos targets por meio do one hot encoding."
   ]
  },
  {
   "cell_type": "code",
   "execution_count": 21,
   "metadata": {},
   "outputs": [],
   "source": [
    "from sklearn.preprocessing import LabelBinarizer\n",
    "\n",
    "binarizer = LabelBinarizer()"
   ]
  },
  {
   "cell_type": "code",
   "execution_count": 22,
   "metadata": {},
   "outputs": [],
   "source": [
    "# One hot encoding the labels\n",
    "encoded_train_labels = binarizer.fit_transform(train_data['target'])\n",
    "encoded_test_labels = binarizer.fit_transform(test_data['target'])"
   ]
  },
  {
   "cell_type": "code",
   "execution_count": 23,
   "metadata": {},
   "outputs": [],
   "source": [
    "# X_train: The subsert of `padded_train_data` that will be used for training the model.\n",
    "# X_val: The subset of `padded_train_data` that will be used for validating the model.\n",
    "# y_train: The subset of `encoded_train_labels` that corresponds to `X_train`, to be used as the target labels for training the model.\n",
    "# y_val: The subset of `encoded_train_labels` that corresponds to `X_test`, to be used as the target labels for validating the model.\n",
    "\n",
    "X_train, X_val, y_train, y_val  = train_test_split(padded_train_data, encoded_train_labels, test_size=0.2, random_state=1)"
   ]
  },
  {
   "cell_type": "markdown",
   "metadata": {},
   "source": [
    "## Construção da Embedding Matrix usando GloVe"
   ]
  },
  {
   "cell_type": "markdown",
   "metadata": {},
   "source": [
    "Para incorporar as palavras em nosso modelo, utilizamos o GloVe (Global Vectors for Word Representation) com vetores de 300 dimensões. A escolha de 300 dimensões é feita com base no equilíbrio entre a complexidade computacional e a riqueza da representação semântica das palavras. Essa dimensionalidade é amplamente reconhecida por proporcionar um bom desempenho em diversas tarefas de PLN.\n",
    "\n",
    "O código a seguir carrega os vetores GloVe de um [arquivo pré-treinado](https://nlp.stanford.edu/data/glove.42B.300d.zip) e constrói uma matriz de embedding, onde cada linha corresponde a um vetor de embedding de uma palavra específica no vocabulário:"
   ]
  },
  {
   "cell_type": "code",
   "execution_count": 24,
   "metadata": {},
   "outputs": [],
   "source": [
    "embedded_dim = 300\n",
    "embedded_index = dict()\n",
    "\n",
    "with open ('glove.42B.300d.txt','r',encoding='utf8') as glove : \n",
    "    for line in glove:\n",
    "        values = line.split()\n",
    "        word = values[0]\n",
    "        vector = np.asarray(values[1:],dtype='float32')\n",
    "        embedded_index[word] = vector\n",
    "\n",
    "embedded_matrix = np.zeros((MAX_VOCAB_SIZE, embedded_dim))\n",
    "\n",
    "for x , i in WORD_INDEX.items():\n",
    "    vector = embedded_index.get(x)\n",
    "    if vector is not None:\n",
    "        embedded_matrix[i] = vector"
   ]
  },
  {
   "cell_type": "markdown",
   "metadata": {},
   "source": [
    "# CNN"
   ]
  },
  {
   "cell_type": "markdown",
   "metadata": {},
   "source": [
    "Com nossa representação vetorial dos dados pronta, o passo seguinte é a construção do nosso modelo CNN."
   ]
  },
  {
   "cell_type": "markdown",
   "metadata": {},
   "source": [
    "## Construção do Modelo"
   ]
  },
  {
   "cell_type": "code",
   "execution_count": 25,
   "metadata": {},
   "outputs": [],
   "source": [
    "from keras.layers import Flatten, Conv1D, MaxPooling1D, Embedding\n",
    "from keras.layers import Dense\n",
    "from keras.models import Sequential"
   ]
  },
  {
   "cell_type": "markdown",
   "metadata": {},
   "source": [
    "Faremos a construção do modelo pensando em capturar padrões locais e globais nas sequências de palavras. Com isso em mente, chegamos na arquitetura apresentada abaixo:\n",
    "\n",
    "1. **Camada de Embedding**: Inicializa os pesos com uma matriz de embedding pré-treinada (GloVe).\n",
    "\n",
    "2. **Camada Conv1D**: Aplica filtros convolucionais para capturar relações importantes entre palavras adjacentes. Usamos 32 filtros e um kernel de tamanho 9, com a função de ativação SELU, para extrair características relevantes para a identificação de intenções.\n",
    "\n",
    "3. **MaxPooling1D**: Reduz a dimensionalidade das características, selecionando os valores máximos de regiões de tamanho 2, o que ajuda a destacar as características mais significativas.\n",
    "\n",
    "4. **Flatten**: Transforma a saída da camada de pooling em um vetor unidimensional, permitindo sua passagem para camadas densas.\n",
    "\n",
    "5. **Camadas Densas**: Duas camadas densas sequenciais, a primeira com 10 unidades e ativação SELU, seguida por uma camada de saída com 9 unidades e ativação `sigmoid`, projetada para a classificação de intenções."
   ]
  },
  {
   "cell_type": "code",
   "execution_count": 26,
   "metadata": {},
   "outputs": [],
   "source": [
    "model = Sequential()\n",
    "model.add(Embedding(MAX_VOCAB_SIZE, 300, input_length= INPUT_LENGTH, weights=[embedded_matrix], trainable=False))\n",
    "model.add(Conv1D(filters=32, kernel_size=9, activation='selu'))\n",
    "model.add(MaxPooling1D(pool_size=2))\n",
    "model.add(Flatten())\n",
    "model.add(Dense(10, activation='selu'))\n",
    "model.add(Dense(9, activation='sigmoid'))"
   ]
  },
  {
   "cell_type": "code",
   "execution_count": 27,
   "metadata": {},
   "outputs": [
    {
     "name": "stdout",
     "output_type": "stream",
     "text": [
      "Model: \"sequential\"\n",
      "_________________________________________________________________\n",
      " Layer (type)                Output Shape              Param #   \n",
      "=================================================================\n",
      " embedding (Embedding)       (None, 46, 300)           297300    \n",
      "                                                                 \n",
      " conv1d (Conv1D)             (None, 38, 32)            86432     \n",
      "                                                                 \n",
      " max_pooling1d (MaxPooling1  (None, 19, 32)            0         \n",
      " D)                                                              \n",
      "                                                                 \n",
      " flatten (Flatten)           (None, 608)               0         \n",
      "                                                                 \n",
      " dense (Dense)               (None, 10)                6090      \n",
      "                                                                 \n",
      " dense_1 (Dense)             (None, 9)                 99        \n",
      "                                                                 \n",
      "=================================================================\n",
      "Total params: 389921 (1.49 MB)\n",
      "Trainable params: 92621 (361.80 KB)\n",
      "Non-trainable params: 297300 (1.13 MB)\n",
      "_________________________________________________________________\n"
     ]
    }
   ],
   "source": [
    "model.summary()"
   ]
  },
  {
   "cell_type": "code",
   "execution_count": 28,
   "metadata": {},
   "outputs": [
    {
     "name": "stdout",
     "output_type": "stream",
     "text": [
      "Epoch 1/60\n",
      "115/115 - 1s - loss: 0.6683 - accuracy: 0.8242 - val_loss: 0.3544 - val_accuracy: 0.9172 - 804ms/epoch - 7ms/step\n",
      "Epoch 2/60\n",
      "115/115 - 1s - loss: 0.2358 - accuracy: 0.9460 - val_loss: 0.2259 - val_accuracy: 0.9455 - 534ms/epoch - 5ms/step\n",
      "Epoch 3/60\n",
      "115/115 - 0s - loss: 0.1092 - accuracy: 0.9755 - val_loss: 0.2038 - val_accuracy: 0.9532 - 462ms/epoch - 4ms/step\n",
      "Epoch 4/60\n",
      "115/115 - 0s - loss: 0.0563 - accuracy: 0.9869 - val_loss: 0.1748 - val_accuracy: 0.9597 - 487ms/epoch - 4ms/step\n",
      "Epoch 5/60\n",
      "115/115 - 0s - loss: 0.0280 - accuracy: 0.9967 - val_loss: 0.1601 - val_accuracy: 0.9684 - 471ms/epoch - 4ms/step\n",
      "Epoch 6/60\n",
      "115/115 - 0s - loss: 0.0171 - accuracy: 0.9992 - val_loss: 0.1713 - val_accuracy: 0.9673 - 463ms/epoch - 4ms/step\n",
      "Epoch 7/60\n",
      "115/115 - 0s - loss: 0.0107 - accuracy: 0.9995 - val_loss: 0.1798 - val_accuracy: 0.9651 - 442ms/epoch - 4ms/step\n",
      "Epoch 8/60\n",
      "115/115 - 0s - loss: 0.0079 - accuracy: 0.9995 - val_loss: 0.1777 - val_accuracy: 0.9662 - 437ms/epoch - 4ms/step\n",
      "Epoch 9/60\n",
      "115/115 - 0s - loss: 0.0062 - accuracy: 0.9995 - val_loss: 0.1833 - val_accuracy: 0.9684 - 444ms/epoch - 4ms/step\n",
      "Epoch 10/60\n",
      "115/115 - 0s - loss: 0.0045 - accuracy: 0.9997 - val_loss: 0.1899 - val_accuracy: 0.9695 - 443ms/epoch - 4ms/step\n",
      "Epoch 11/60\n",
      "115/115 - 0s - loss: 0.0034 - accuracy: 0.9997 - val_loss: 0.1891 - val_accuracy: 0.9695 - 454ms/epoch - 4ms/step\n",
      "Epoch 12/60\n",
      "115/115 - 0s - loss: 0.0029 - accuracy: 0.9997 - val_loss: 0.1951 - val_accuracy: 0.9684 - 438ms/epoch - 4ms/step\n",
      "Epoch 13/60\n",
      "115/115 - 0s - loss: 0.0021 - accuracy: 1.0000 - val_loss: 0.1949 - val_accuracy: 0.9684 - 442ms/epoch - 4ms/step\n",
      "Epoch 14/60\n",
      "115/115 - 0s - loss: 0.0019 - accuracy: 1.0000 - val_loss: 0.2035 - val_accuracy: 0.9673 - 442ms/epoch - 4ms/step\n",
      "Epoch 15/60\n",
      "115/115 - 0s - loss: 0.0014 - accuracy: 1.0000 - val_loss: 0.2094 - val_accuracy: 0.9684 - 464ms/epoch - 4ms/step\n",
      "Epoch 16/60\n",
      "115/115 - 0s - loss: 0.0012 - accuracy: 1.0000 - val_loss: 0.2074 - val_accuracy: 0.9684 - 444ms/epoch - 4ms/step\n",
      "Epoch 17/60\n",
      "115/115 - 0s - loss: 0.0010 - accuracy: 1.0000 - val_loss: 0.2100 - val_accuracy: 0.9673 - 444ms/epoch - 4ms/step\n",
      "Epoch 18/60\n",
      "115/115 - 0s - loss: 8.1451e-04 - accuracy: 1.0000 - val_loss: 0.2127 - val_accuracy: 0.9673 - 439ms/epoch - 4ms/step\n",
      "Epoch 19/60\n",
      "115/115 - 0s - loss: 6.9963e-04 - accuracy: 1.0000 - val_loss: 0.2163 - val_accuracy: 0.9684 - 441ms/epoch - 4ms/step\n",
      "Epoch 20/60\n",
      "115/115 - 0s - loss: 6.1429e-04 - accuracy: 1.0000 - val_loss: 0.2155 - val_accuracy: 0.9673 - 442ms/epoch - 4ms/step\n",
      "Epoch 21/60\n",
      "115/115 - 0s - loss: 5.4075e-04 - accuracy: 1.0000 - val_loss: 0.2183 - val_accuracy: 0.9684 - 446ms/epoch - 4ms/step\n",
      "Epoch 22/60\n",
      "115/115 - 0s - loss: 4.6667e-04 - accuracy: 1.0000 - val_loss: 0.2206 - val_accuracy: 0.9684 - 440ms/epoch - 4ms/step\n",
      "Epoch 23/60\n",
      "115/115 - 0s - loss: 4.1479e-04 - accuracy: 1.0000 - val_loss: 0.2220 - val_accuracy: 0.9673 - 442ms/epoch - 4ms/step\n",
      "Epoch 24/60\n",
      "115/115 - 0s - loss: 3.6878e-04 - accuracy: 1.0000 - val_loss: 0.2238 - val_accuracy: 0.9662 - 442ms/epoch - 4ms/step\n",
      "Epoch 25/60\n",
      "115/115 - 0s - loss: 3.2952e-04 - accuracy: 1.0000 - val_loss: 0.2257 - val_accuracy: 0.9673 - 440ms/epoch - 4ms/step\n",
      "Epoch 26/60\n",
      "115/115 - 0s - loss: 2.9237e-04 - accuracy: 1.0000 - val_loss: 0.2289 - val_accuracy: 0.9673 - 447ms/epoch - 4ms/step\n",
      "Epoch 27/60\n",
      "115/115 - 0s - loss: 2.6400e-04 - accuracy: 1.0000 - val_loss: 0.2296 - val_accuracy: 0.9673 - 446ms/epoch - 4ms/step\n",
      "Epoch 28/60\n",
      "115/115 - 0s - loss: 2.3594e-04 - accuracy: 1.0000 - val_loss: 0.2316 - val_accuracy: 0.9684 - 442ms/epoch - 4ms/step\n",
      "Epoch 29/60\n",
      "115/115 - 0s - loss: 2.1366e-04 - accuracy: 1.0000 - val_loss: 0.2335 - val_accuracy: 0.9673 - 437ms/epoch - 4ms/step\n",
      "Epoch 30/60\n",
      "115/115 - 0s - loss: 1.9364e-04 - accuracy: 1.0000 - val_loss: 0.2353 - val_accuracy: 0.9684 - 442ms/epoch - 4ms/step\n",
      "Epoch 31/60\n",
      "115/115 - 0s - loss: 1.7706e-04 - accuracy: 1.0000 - val_loss: 0.2384 - val_accuracy: 0.9684 - 442ms/epoch - 4ms/step\n",
      "Epoch 32/60\n",
      "115/115 - 0s - loss: 1.6076e-04 - accuracy: 1.0000 - val_loss: 0.2375 - val_accuracy: 0.9695 - 441ms/epoch - 4ms/step\n",
      "Epoch 33/60\n",
      "115/115 - 0s - loss: 1.4718e-04 - accuracy: 1.0000 - val_loss: 0.2417 - val_accuracy: 0.9684 - 434ms/epoch - 4ms/step\n",
      "Epoch 34/60\n",
      "115/115 - 0s - loss: 1.3264e-04 - accuracy: 1.0000 - val_loss: 0.2425 - val_accuracy: 0.9684 - 439ms/epoch - 4ms/step\n",
      "Epoch 35/60\n",
      "115/115 - 0s - loss: 1.2230e-04 - accuracy: 1.0000 - val_loss: 0.2421 - val_accuracy: 0.9684 - 435ms/epoch - 4ms/step\n",
      "Epoch 36/60\n",
      "115/115 - 0s - loss: 1.1221e-04 - accuracy: 1.0000 - val_loss: 0.2479 - val_accuracy: 0.9684 - 440ms/epoch - 4ms/step\n",
      "Epoch 37/60\n",
      "115/115 - 0s - loss: 1.0290e-04 - accuracy: 1.0000 - val_loss: 0.2484 - val_accuracy: 0.9684 - 463ms/epoch - 4ms/step\n",
      "Epoch 38/60\n",
      "115/115 - 0s - loss: 9.4149e-05 - accuracy: 1.0000 - val_loss: 0.2457 - val_accuracy: 0.9695 - 460ms/epoch - 4ms/step\n",
      "Epoch 39/60\n",
      "115/115 - 0s - loss: 8.6643e-05 - accuracy: 1.0000 - val_loss: 0.2477 - val_accuracy: 0.9695 - 483ms/epoch - 4ms/step\n",
      "Epoch 40/60\n",
      "115/115 - 0s - loss: 8.0156e-05 - accuracy: 1.0000 - val_loss: 0.2509 - val_accuracy: 0.9695 - 455ms/epoch - 4ms/step\n",
      "Epoch 41/60\n",
      "115/115 - 0s - loss: 7.2673e-05 - accuracy: 1.0000 - val_loss: 0.2518 - val_accuracy: 0.9695 - 453ms/epoch - 4ms/step\n",
      "Epoch 42/60\n",
      "115/115 - 0s - loss: 6.7271e-05 - accuracy: 1.0000 - val_loss: 0.2553 - val_accuracy: 0.9684 - 496ms/epoch - 4ms/step\n",
      "Epoch 43/60\n",
      "115/115 - 0s - loss: 6.2009e-05 - accuracy: 1.0000 - val_loss: 0.2559 - val_accuracy: 0.9695 - 482ms/epoch - 4ms/step\n",
      "Epoch 44/60\n",
      "115/115 - 0s - loss: 5.7424e-05 - accuracy: 1.0000 - val_loss: 0.2568 - val_accuracy: 0.9684 - 427ms/epoch - 4ms/step\n",
      "Epoch 45/60\n",
      "115/115 - 0s - loss: 5.3153e-05 - accuracy: 1.0000 - val_loss: 0.2588 - val_accuracy: 0.9684 - 435ms/epoch - 4ms/step\n",
      "Epoch 46/60\n",
      "115/115 - 0s - loss: 4.8896e-05 - accuracy: 1.0000 - val_loss: 0.2596 - val_accuracy: 0.9684 - 460ms/epoch - 4ms/step\n",
      "Epoch 47/60\n",
      "115/115 - 0s - loss: 4.5200e-05 - accuracy: 1.0000 - val_loss: 0.2612 - val_accuracy: 0.9695 - 455ms/epoch - 4ms/step\n",
      "Epoch 48/60\n",
      "115/115 - 0s - loss: 4.1788e-05 - accuracy: 1.0000 - val_loss: 0.2640 - val_accuracy: 0.9684 - 456ms/epoch - 4ms/step\n",
      "Epoch 49/60\n",
      "115/115 - 0s - loss: 3.8591e-05 - accuracy: 1.0000 - val_loss: 0.2635 - val_accuracy: 0.9695 - 497ms/epoch - 4ms/step\n",
      "Epoch 50/60\n",
      "115/115 - 0s - loss: 3.5886e-05 - accuracy: 1.0000 - val_loss: 0.2671 - val_accuracy: 0.9684 - 471ms/epoch - 4ms/step\n",
      "Epoch 51/60\n",
      "115/115 - 0s - loss: 3.3105e-05 - accuracy: 1.0000 - val_loss: 0.2671 - val_accuracy: 0.9695 - 468ms/epoch - 4ms/step\n",
      "Epoch 52/60\n",
      "115/115 - 0s - loss: 3.0801e-05 - accuracy: 1.0000 - val_loss: 0.2687 - val_accuracy: 0.9695 - 461ms/epoch - 4ms/step\n",
      "Epoch 53/60\n",
      "115/115 - 0s - loss: 2.8439e-05 - accuracy: 1.0000 - val_loss: 0.2703 - val_accuracy: 0.9684 - 460ms/epoch - 4ms/step\n",
      "Epoch 54/60\n",
      "115/115 - 0s - loss: 2.6443e-05 - accuracy: 1.0000 - val_loss: 0.2683 - val_accuracy: 0.9695 - 446ms/epoch - 4ms/step\n",
      "Epoch 55/60\n",
      "115/115 - 0s - loss: 2.4414e-05 - accuracy: 1.0000 - val_loss: 0.2729 - val_accuracy: 0.9684 - 471ms/epoch - 4ms/step\n",
      "Epoch 56/60\n",
      "115/115 - 0s - loss: 2.2842e-05 - accuracy: 1.0000 - val_loss: 0.2749 - val_accuracy: 0.9684 - 439ms/epoch - 4ms/step\n",
      "Epoch 57/60\n",
      "115/115 - 0s - loss: 2.1238e-05 - accuracy: 1.0000 - val_loss: 0.2764 - val_accuracy: 0.9684 - 458ms/epoch - 4ms/step\n",
      "Epoch 58/60\n",
      "115/115 - 0s - loss: 1.9759e-05 - accuracy: 1.0000 - val_loss: 0.2776 - val_accuracy: 0.9684 - 460ms/epoch - 4ms/step\n",
      "Epoch 59/60\n",
      "115/115 - 0s - loss: 1.8315e-05 - accuracy: 1.0000 - val_loss: 0.2765 - val_accuracy: 0.9695 - 452ms/epoch - 4ms/step\n",
      "Epoch 60/60\n",
      "115/115 - 0s - loss: 1.7073e-05 - accuracy: 1.0000 - val_loss: 0.2803 - val_accuracy: 0.9684 - 462ms/epoch - 4ms/step\n"
     ]
    }
   ],
   "source": [
    "model.compile(loss='categorical_crossentropy',optimizer='adam', metrics=['accuracy'])\n",
    "\n",
    "history = model.fit(X_train, y_train, epochs=60, verbose=2, validation_data=(X_val, y_val))"
   ]
  },
  {
   "cell_type": "markdown",
   "metadata": {},
   "source": [
    "## Avaliação do Modelo"
   ]
  },
  {
   "cell_type": "code",
   "execution_count": 29,
   "metadata": {},
   "outputs": [
    {
     "name": "stdout",
     "output_type": "stream",
     "text": [
      "36/36 [==============================] - 0s 2ms/step\n",
      "0.9572798605056669\n"
     ]
    }
   ],
   "source": [
    "def acc(y_true, y_pred):\n",
    "    return np.equal(np.argmax(y_true, axis=-1), np.argmax(y_pred, axis=-1)).mean()\n",
    "\n",
    "predictions = model.predict(padded_test_data)\n",
    "print(acc(encoded_test_labels, predictions))"
   ]
  },
  {
   "cell_type": "code",
   "execution_count": 32,
   "metadata": {},
   "outputs": [
    {
     "name": "stdout",
     "output_type": "stream",
     "text": [
      "                     precision    recall  f1-score   support\n",
      "\n",
      "  atis_abbreviation       0.85      0.92      0.88        36\n",
      "      atis_aircraft       0.93      0.78      0.85        18\n",
      "       atis_airfare       0.91      0.93      0.92        94\n",
      "       atis_airline       0.88      0.90      0.89        39\n",
      "        atis_flight       0.97      0.98      0.98       860\n",
      "   atis_flight_time       0.83      0.45      0.59        11\n",
      "atis_ground_service       0.95      0.98      0.97        58\n",
      "      atis_quantity       1.00      0.64      0.78        11\n",
      "              other       0.88      0.70      0.78        20\n",
      "\n",
      "           accuracy                           0.96      1147\n",
      "          macro avg       0.91      0.81      0.85      1147\n",
      "       weighted avg       0.96      0.96      0.96      1147\n",
      "\n"
     ]
    }
   ],
   "source": [
    "# Convert the one-hot encoded test labels back to categorical labels\n",
    "y_test_labels = np.argmax(encoded_test_labels, axis=1)\n",
    "y_pred_labels = np.argmax(predictions, axis=1)\n",
    "\n",
    "# Generate the classification report\n",
    "print(classification_report(y_test_labels, y_pred_labels, target_names=binarizer.classes_))"
   ]
  },
  {
   "cell_type": "code",
   "execution_count": 33,
   "metadata": {},
   "outputs": [
    {
     "data": {
      "image/png": "[encoded data removed]",
      "text/plain": [
       "<Figure size 640x480 with 1 Axes>"
      ]
     },
     "metadata": {},
     "output_type": "display_data"
    }
   ],
   "source": [
    "import matplotlib.pyplot as plt\n",
    "\n",
    "# summarize history for accuracy\n",
    "plt.plot(history.history['accuracy'])\n",
    "plt.plot(history.history['val_accuracy'])\n",
    "plt.title('model accuracy')\n",
    "plt.ylabel('accuracy')\n",
    "plt.xlabel('epoch')\n",
    "plt.legend(['train', 'test'], loc='upper left')\n",
    "plt.show()"
   ]
  },
  {
   "cell_type": "code",
   "execution_count": 34,
   "metadata": {},
   "outputs": [
    {
     "data": {
      "image/png": "[encoded data removed]",
      "text/plain": [
       "<Figure size 640x480 with 1 Axes>"
      ]
     },
     "metadata": {},
     "output_type": "display_data"
    }
   ],
   "source": [
    "# summarize history for loss\n",
    "plt.plot(history.history['loss'])\n",
    "plt.plot(history.history['val_loss'])\n",
    "plt.title('model loss')\n",
    "plt.ylabel('loss')\n",
    "plt.xlabel('epoch')\n",
    "plt.legend(['train', 'test'], loc='upper left')\n",
    "plt.show()"
   ]
  },
  {
   "cell_type": "markdown",
   "metadata": {},
   "source": [
    "Diferente do que inicialmente esperamos, o modelo CNN não se saiu melhor do que o SVM. Pelo o que podemos ver, os gráficos de acurácia e de loss apontam para um overfitting no treinamento. Por mais que acurácia esteja alta (0.96), vemos que o f1-score saiu bastante penalizado tendo uma média de (0.85). Vemos que para `atis_flight_time` o recall foi significantemente baixo. Se também considerarmos que o treinamento do modelo foi consideravelmente quando comparado com o SVM, vemos mais uma penalização para o CNN."
   ]
  },
  {
   "cell_type": "markdown",
   "metadata": {},
   "source": [
    "# LSTM"
   ]
  },
  {
   "cell_type": "markdown",
   "metadata": {},
   "source": [
    "Em seguida, temos a implementação de um modelo baseado em LSTM para realizar a identificação de intenções nos nossos dados."
   ]
  },
  {
   "cell_type": "markdown",
   "metadata": {},
   "source": [
    "## Construção do Modelo"
   ]
  },
  {
   "cell_type": "markdown",
   "metadata": {},
   "source": [
    "Abaixo, detalhamos os componentes principais da nossa arquitetura:\n",
    "\n",
    "- **Camada de Embedding**: Começamos com uma camada de embedding que usa vetores GloVe pré-treinados para converter palavras em representações vetoriais.\n",
    "\n",
    "- **Camada LSTM**: A seguir, uma camada LSTM com 128 unidades e dropout de 0.2 é usada para processar a sequência de embeddings. Esta camada é capaz de aprender as dependências de longo prazo necessárias para entender o contexto e a intenção por trás de uma entrada de texto.\n",
    "\n",
    "- **Camada Densa de Saída**: Por fim, uma camada densa com ativação `softmax` classifica a entrada em uma das possíveis intenções, com cada unidade de saída correspondendo a uma intenção específica."
   ]
  },
  {
   "cell_type": "code",
   "execution_count": 35,
   "metadata": {},
   "outputs": [
    {
     "name": "stdout",
     "output_type": "stream",
     "text": [
      "Model: \"sequential_1\"\n",
      "_________________________________________________________________\n",
      " Layer (type)                Output Shape              Param #   \n",
      "=================================================================\n",
      " embedding_1 (Embedding)     (None, 46, 300)           297300    \n",
      "                                                                 \n",
      " lstm (LSTM)                 (None, 128)               219648    \n",
      "                                                                 \n",
      " dense_2 (Dense)             (None, 9)                 1161      \n",
      "                                                                 \n",
      "=================================================================\n",
      "Total params: 518109 (1.98 MB)\n",
      "Trainable params: 220809 (862.54 KB)\n",
      "Non-trainable params: 297300 (1.13 MB)\n",
      "_________________________________________________________________\n"
     ]
    }
   ],
   "source": [
    "from keras.layers import LSTM\n",
    "\n",
    "# Definying the model architecture\n",
    "model = Sequential()\n",
    "model.add(Embedding(MAX_VOCAB_SIZE, 300, input_length= INPUT_LENGTH, weights=[embedded_matrix], trainable=False))\n",
    "model.add(LSTM(128, dropout=0.2, recurrent_dropout=0.2))\n",
    "model.add(Dense(9, activation='softmax'))\n",
    "\n",
    "model.summary()"
   ]
  },
  {
   "cell_type": "code",
   "execution_count": 36,
   "metadata": {},
   "outputs": [
    {
     "name": "stdout",
     "output_type": "stream",
     "text": [
      "Epoch 1/10\n",
      "115/115 [==============================] - 12s 96ms/step - loss: 0.6448 - accuracy: 0.8252 - val_loss: 0.2741 - val_accuracy: 0.9227\n",
      "Epoch 2/10\n",
      "115/115 [==============================] - 10s 91ms/step - loss: 0.1933 - accuracy: 0.9487 - val_loss: 0.1400 - val_accuracy: 0.9542\n",
      "Epoch 3/10\n",
      "115/115 [==============================] - 10s 90ms/step - loss: 0.1072 - accuracy: 0.9697 - val_loss: 0.1093 - val_accuracy: 0.9728\n",
      "Epoch 4/10\n",
      "115/115 [==============================] - 10s 89ms/step - loss: 0.0633 - accuracy: 0.9834 - val_loss: 0.0794 - val_accuracy: 0.9706\n",
      "Epoch 5/10\n",
      "115/115 [==============================] - 10s 89ms/step - loss: 0.0420 - accuracy: 0.9875 - val_loss: 0.0763 - val_accuracy: 0.9717\n",
      "Epoch 6/10\n",
      "115/115 [==============================] - 10s 91ms/step - loss: 0.0275 - accuracy: 0.9926 - val_loss: 0.0620 - val_accuracy: 0.9815\n",
      "Epoch 7/10\n",
      "115/115 [==============================] - 10s 90ms/step - loss: 0.0212 - accuracy: 0.9951 - val_loss: 0.0698 - val_accuracy: 0.9782\n",
      "Epoch 8/10\n",
      "115/115 [==============================] - 10s 90ms/step - loss: 0.0177 - accuracy: 0.9954 - val_loss: 0.0577 - val_accuracy: 0.9826\n",
      "Epoch 9/10\n",
      "115/115 [==============================] - 10s 90ms/step - loss: 0.0174 - accuracy: 0.9948 - val_loss: 0.0650 - val_accuracy: 0.9858\n",
      "Epoch 10/10\n",
      "115/115 [==============================] - 10s 91ms/step - loss: 0.0069 - accuracy: 0.9989 - val_loss: 0.0689 - val_accuracy: 0.9847\n"
     ]
    }
   ],
   "source": [
    "# Compile the model\n",
    "model.compile(optimizer='adam', loss='categorical_crossentropy', metrics=['accuracy'])\n",
    "\n",
    "# Train the model\n",
    "history = model.fit(X_train, y_train, batch_size=32, epochs=10, validation_data=(X_val, y_val))"
   ]
  },
  {
   "cell_type": "markdown",
   "metadata": {},
   "source": [
    "## Avaliação do Modelo"
   ]
  },
  {
   "cell_type": "code",
   "execution_count": 37,
   "metadata": {},
   "outputs": [
    {
     "name": "stdout",
     "output_type": "stream",
     "text": [
      "36/36 [==============================] - 1s 17ms/step\n",
      "0.979947689625109\n"
     ]
    }
   ],
   "source": [
    "predictions = model.predict(padded_test_data)\n",
    "print(acc(encoded_test_labels, predictions))"
   ]
  },
  {
   "cell_type": "code",
   "execution_count": 39,
   "metadata": {},
   "outputs": [
    {
     "name": "stdout",
     "output_type": "stream",
     "text": [
      "                     precision    recall  f1-score   support\n",
      "\n",
      "  atis_abbreviation       0.89      0.94      0.92        36\n",
      "      atis_aircraft       0.89      0.89      0.89        18\n",
      "       atis_airfare       0.98      0.98      0.98        94\n",
      "       atis_airline       0.93      0.97      0.95        39\n",
      "        atis_flight       0.99      0.99      0.99       860\n",
      "   atis_flight_time       0.90      0.82      0.86        11\n",
      "atis_ground_service       0.95      1.00      0.97        58\n",
      "      atis_quantity       0.91      0.91      0.91        11\n",
      "              other       1.00      0.80      0.89        20\n",
      "\n",
      "           accuracy                           0.98      1147\n",
      "          macro avg       0.94      0.92      0.93      1147\n",
      "       weighted avg       0.98      0.98      0.98      1147\n",
      "\n"
     ]
    }
   ],
   "source": [
    "# Convert the one-hot encoded test labels back to categorical labels\n",
    "y_test_labels = np.argmax(encoded_test_labels, axis=1)\n",
    "y_pred_labels = np.argmax(predictions, axis=1)\n",
    "\n",
    "# Generate the classification report\n",
    "print(classification_report(y_test_labels, y_pred_labels, target_names=binarizer.classes_))"
   ]
  },
  {
   "cell_type": "code",
   "execution_count": 40,
   "metadata": {},
   "outputs": [
    {
     "data": {
      "image/png": "[encoded data removed]",
      "text/plain": [
       "<Figure size 640x480 with 1 Axes>"
      ]
     },
     "metadata": {},
     "output_type": "display_data"
    }
   ],
   "source": [
    "# summarize history for accuracy\n",
    "plt.plot(history.history['accuracy'])\n",
    "plt.plot(history.history['val_accuracy'])\n",
    "plt.title('model accuracy')\n",
    "plt.ylabel('accuracy')\n",
    "plt.xlabel('epoch')\n",
    "plt.legend(['train', 'test'], loc='upper left')\n",
    "plt.show()"
   ]
  },
  {
   "cell_type": "code",
   "execution_count": 41,
   "metadata": {},
   "outputs": [
    {
     "data": {
      "image/png": "[encoded data removed]",
      "text/plain": [
       "<Figure size 640x480 with 1 Axes>"
      ]
     },
     "metadata": {},
     "output_type": "display_data"
    }
   ],
   "source": [
    "# summarize history for loss\n",
    "plt.plot(history.history['loss'])\n",
    "plt.plot(history.history['val_loss'])\n",
    "plt.title('model loss')\n",
    "plt.ylabel('loss')\n",
    "plt.xlabel('epoch')\n",
    "plt.legend(['train', 'test'], loc='upper left')\n",
    "plt.show()"
   ]
  },
  {
   "cell_type": "markdown",
   "metadata": {},
   "source": [
    "O modelo LSTM foi o que apresentou, até agora, os melhores resultados. Com uma acurácia de 0.98 e f1-score médio de 0.93, o modelo aparenta identificar bem os nossos dados. Também foi o modelo que teve a menor variação nos valores de precision e recall. Vale salientar que o seu tempo de treinamento foi praticamente o dobro do CNN e expressivamente maior do que o do SVM."
   ]
  }
 ],
 "metadata": {
  "kernelspec": {
   "display_name": "Python 3",
   "language": "python",
   "name": "python3"
  },
  "language_info": {
   "codemirror_mode": {
    "name": "ipython",
    "version": 3
   },
   "file_extension": ".py",
   "mimetype": "text/x-python",
   "name": "python",
   "nbconvert_exporter": "python",
   "pygments_lexer": "ipython3",
   "version": "3.9.6"
  }
 },
 "nbformat": 4,
 "nbformat_minor": 2
}
