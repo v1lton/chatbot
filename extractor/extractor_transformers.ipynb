{
  "cells": [
    {
      "cell_type": "code",
      "execution_count": null,
      "metadata": {
        "colab": {
          "base_uri": "https://localhost:8080/"
        },
        "id": "tguMmjkHNb04",
        "outputId": "11bb9058-af85-4bba-a1cc-f632e0217ffe"
      },
      "outputs": [
        {
          "output_type": "execute_result",
          "data": {
            "text/plain": [
              "{'text': 'i want to fly from boston at 838 am and arrive in denver at 1110 in the morning',\n",
              " 'intent': 'flight',\n",
              " 'entities': [{'start': 19,\n",
              "   'end': 25,\n",
              "   'value': 'boston',\n",
              "   'entity': 'fromloc.city_name'},\n",
              "  {'start': 29, 'end': 35, 'value': '838 am', 'entity': 'depart_time.time'},\n",
              "  {'start': 50, 'end': 56, 'value': 'denver', 'entity': 'toloc.city_name'},\n",
              "  {'start': 60, 'end': 64, 'value': '1110', 'entity': 'arrive_time.time'},\n",
              "  {'start': 72,\n",
              "   'end': 79,\n",
              "   'value': 'morning',\n",
              "   'entity': 'arrive_time.period_of_day'}]}"
            ]
          },
          "metadata": {},
          "execution_count": 1
        }
      ],
      "source": [
        "import json\n",
        "with open('ATIS_train.json', 'r') as f:\n",
        "    data = json.load(f)\n",
        "\n",
        "messages_list = data['rasa_nlu_data']['common_examples']\n",
        "messages_list[0]"
      ]
    },
    {
      "cell_type": "markdown",
      "metadata": {
        "id": "Th5vdZ4GNb05"
      },
      "source": [
        "## Step 1: Preprocess the Data"
      ]
    },
    {
      "cell_type": "code",
      "execution_count": null,
      "metadata": {
        "colab": {
          "base_uri": "https://localhost:8080/",
          "height": 272,
          "referenced_widgets": [
            "54f7c814bc61430982d0700c10a5eb55",
            "4ccf6dcf67bd45109b477610d39fc5bd",
            "116381b265504879996304c7a3e1be7f",
            "4ae5263c57214aaaa24b1345153b916e",
            "4b3d7ea4d0bd4846980767f9f6fdce01",
            "56de42fc13454900b8b590ff80a3a7ed",
            "3004335dac7e4c0ea108a69cb5f8a734",
            "77278d5cae234cdd918493796f2d2508",
            "fdc4ecff5ad6434291f9d0435070661a",
            "08963c3531e04e51a7381a736668a14b",
            "7a28dadf87e84462b62e4129dfe580fd",
            "8c319714b0944fc1b8bb0768c3a2b1d5",
            "c0738ec11546476083f35413f232f190",
            "a8d5f6b6bf0a4b8592802ed4b75bef91",
            "22e0260840b244749226c669924416d4",
            "3d669fb3ed1842baa3adb72075253278",
            "5bcb2ba60a7c479e8b745dc961bcebb1",
            "b8173bae0dce47fea8fc3e4ed672991a",
            "299c683a5ad2460e9e7c642e8d64066b",
            "94013385318243f59fe2395b8675a4ec",
            "5c717b47aff942439a16669105fd1512",
            "cc31a518aa414eb89e2c64f67ab803b3",
            "8046c20072884e31bcf3d5275ccca7b1",
            "51cf7498d9f24c2eafe9496094e73e91",
            "b199eda55aa64977a96b79e8f39f4d3e",
            "65f76ef2d95b4d96a91f120f44626a09",
            "352a151a96d84c229e37e31689e6961c",
            "0fbeae784aaa487a9b4cc548331558fc",
            "9276dfcc20b54141a1904146972d09eb",
            "5aa688db384a4f56b539a447f84663fe",
            "07f3566b6f2d4a37a1d49c66024919cd",
            "34d4a7dff8e347a883bd727a55b04ab9",
            "f292ce55407146ce9fb166c00c3f5cea",
            "e3bf4431792c4625bac454324773d940",
            "feae2be7c1ae472aa23127dd4b3da3f4",
            "9e2aec10c47244df85a730845fc56414",
            "d909760ee74043bcaa8a28403a367336",
            "1f83030be3b84c0384a6ade6e4279d62",
            "7658a2049de147d5949bab28a09695e5",
            "3d9f8b3435cb4bbbb252f341bea6f206",
            "2ca53ee62f4a4da4947b0947b16d1e52",
            "4bec4bdbd3d941638267fba0428eff7b",
            "beb2588515444df5888764889adac2f2",
            "1b635cb146e047b0996458ff4c0adb26"
          ]
        },
        "id": "4cCfH3quNb06",
        "outputId": "6b50d67b-13fe-4f32-d113-6a3769485e00"
      },
      "outputs": [
        {
          "output_type": "stream",
          "name": "stderr",
          "text": [
            "/usr/local/lib/python3.10/dist-packages/huggingface_hub/utils/_token.py:88: UserWarning: \n",
            "The secret `HF_TOKEN` does not exist in your Colab secrets.\n",
            "To authenticate with the Hugging Face Hub, create a token in your settings tab (https://huggingface.co/settings/tokens), set it as secret in your Google Colab and restart your session.\n",
            "You will be able to reuse this secret in all of your notebooks.\n",
            "Please note that authentication is recommended but still optional to access public models or datasets.\n",
            "  warnings.warn(\n"
          ]
        },
        {
          "output_type": "display_data",
          "data": {
            "text/plain": [
              "tokenizer_config.json:   0%|          | 0.00/48.0 [00:00<?, ?B/s]"
            ],
            "application/vnd.jupyter.widget-view+json": {
              "version_major": 2,
              "version_minor": 0,
              "model_id": "54f7c814bc61430982d0700c10a5eb55"
            }
          },
          "metadata": {}
        },
        {
          "output_type": "display_data",
          "data": {
            "text/plain": [
              "config.json:   0%|          | 0.00/570 [00:00<?, ?B/s]"
            ],
            "application/vnd.jupyter.widget-view+json": {
              "version_major": 2,
              "version_minor": 0,
              "model_id": "8c319714b0944fc1b8bb0768c3a2b1d5"
            }
          },
          "metadata": {}
        },
        {
          "output_type": "display_data",
          "data": {
            "text/plain": [
              "vocab.txt:   0%|          | 0.00/232k [00:00<?, ?B/s]"
            ],
            "application/vnd.jupyter.widget-view+json": {
              "version_major": 2,
              "version_minor": 0,
              "model_id": "8046c20072884e31bcf3d5275ccca7b1"
            }
          },
          "metadata": {}
        },
        {
          "output_type": "display_data",
          "data": {
            "text/plain": [
              "tokenizer.json:   0%|          | 0.00/466k [00:00<?, ?B/s]"
            ],
            "application/vnd.jupyter.widget-view+json": {
              "version_major": 2,
              "version_minor": 0,
              "model_id": "e3bf4431792c4625bac454324773d940"
            }
          },
          "metadata": {}
        }
      ],
      "source": [
        "from transformers import AutoTokenizer\n",
        "\n",
        "# Initialize the tokenizer\n",
        "tokenizer = AutoTokenizer.from_pretrained('bert-base-uncased')\n",
        "\n",
        "def tokenize_and_align_labels_with_bio(data, tokenizer):\n",
        "    tokenized_texts = []\n",
        "    aligned_labels = []\n",
        "\n",
        "    for item in data:\n",
        "        text = item['text']\n",
        "        entities = item['entities']\n",
        "\n",
        "        # Tokenize text and create a mapping from token to word in the original text\n",
        "        tokenized_input = tokenizer(text, return_offsets_mapping=True, truncation=True, padding='max_length', return_tensors=\"pt\")\n",
        "        tokens = tokenized_input.tokens()\n",
        "        offsets = tokenized_input['offset_mapping'].squeeze().tolist()\n",
        "\n",
        "        # Initialize all tokens as outside\n",
        "        labels = ['O'] * len(tokens)\n",
        "\n",
        "        for entity in entities:\n",
        "            start, end = entity['start'], entity['end']\n",
        "            entity_label = entity['entity']\n",
        "\n",
        "            # Flag to indicate if we are at the beginning of an entity\n",
        "            is_begin = True\n",
        "\n",
        "            for idx, (offset_start, offset_end) in enumerate(offsets):\n",
        "                # Check if this token is part of the entity\n",
        "                if offset_start >= start and offset_end <= end:\n",
        "                    prefix = 'B-' if is_begin else 'I-'\n",
        "                    labels[idx] = f\"{prefix}{entity_label}\"\n",
        "                    is_begin = False  # After the first token, all others are inside\n",
        "\n",
        "        tokenized_texts.append(tokenized_input)\n",
        "        aligned_labels.append(labels)\n",
        "\n",
        "    return tokenized_texts, aligned_labels\n",
        "\n",
        "\n",
        "# Tokenize and align labels for your data\n",
        "tokenized_texts, aligned_labels = tokenize_and_align_labels_with_bio(messages_list, tokenizer)\n"
      ]
    },
    {
      "cell_type": "markdown",
      "metadata": {
        "id": "F2wcIOcoNb06"
      },
      "source": [
        "## Step 2: Choose a Pre-trained Model"
      ]
    },
    {
      "cell_type": "code",
      "execution_count": null,
      "metadata": {
        "colab": {
          "base_uri": "https://localhost:8080/"
        },
        "id": "9JMzyjvENb06",
        "outputId": "ac9f5916-c3fc-4d8b-913d-a3ec4f606316"
      },
      "outputs": [
        {
          "output_type": "execute_result",
          "data": {
            "text/plain": [
              "131"
            ]
          },
          "metadata": {},
          "execution_count": 3
        }
      ],
      "source": [
        "unique_labels = set()  # Set to store unique labels\n",
        "\n",
        "# Iterate over the aligned labels to collect unique labels\n",
        "for labels in aligned_labels:\n",
        "    unique_labels.update(labels)  # Add all labels from this example to the set\n",
        "\n",
        "# Calculate the number of unique labels\n",
        "number_of_labels = len(unique_labels)\n",
        "\n",
        "number_of_labels\n"
      ]
    },
    {
      "cell_type": "code",
      "execution_count": null,
      "metadata": {
        "colab": {
          "base_uri": "https://localhost:8080/"
        },
        "id": "Q-HczfgzNb06",
        "outputId": "1478b18a-acc5-4b7c-d37e-f70008ec201d"
      },
      "outputs": [
        {
          "output_type": "stream",
          "name": "stdout",
          "text": [
            "{'B-aircraft_code': 0, 'B-airline_code': 1, 'B-airline_name': 2, 'B-airport_code': 3, 'B-airport_name': 4, 'B-arrive_date.date_relative': 5, 'B-arrive_date.day_name': 6, 'B-arrive_date.day_number': 7, 'B-arrive_date.month_name': 8, 'B-arrive_date.today_relative': 9, 'B-arrive_time.end_time': 10, 'B-arrive_time.period_mod': 11, 'B-arrive_time.period_of_day': 12, 'B-arrive_time.start_time': 13, 'B-arrive_time.time': 14, 'B-arrive_time.time_relative': 15, 'B-city_name': 16, 'B-class_type': 17, 'B-connect': 18, 'B-cost_relative': 19, 'B-day_name': 20, 'B-day_number': 21, 'B-days_code': 22, 'B-depart_date.date_relative': 23, 'B-depart_date.day_name': 24, 'B-depart_date.day_number': 25, 'B-depart_date.month_name': 26, 'B-depart_date.today_relative': 27, 'B-depart_date.year': 28, 'B-depart_time.end_time': 29, 'B-depart_time.period_mod': 30, 'B-depart_time.period_of_day': 31, 'B-depart_time.start_time': 32, 'B-depart_time.time': 33, 'B-depart_time.time_relative': 34, 'B-economy': 35, 'B-fare_amount': 36, 'B-fare_basis_code': 37, 'B-flight_days': 38, 'B-flight_mod': 39, 'B-flight_number': 40, 'B-flight_stop': 41, 'B-flight_time': 42, 'B-fromloc.airport_code': 43, 'B-fromloc.airport_name': 44, 'B-fromloc.city_name': 45, 'B-fromloc.state_code': 46, 'B-fromloc.state_name': 47, 'B-meal': 48, 'B-meal_code': 49, 'B-meal_description': 50, 'B-mod': 51, 'B-month_name': 52, 'B-or': 53, 'B-period_of_day': 54, 'B-restriction_code': 55, 'B-return_date.date_relative': 56, 'B-return_date.day_name': 57, 'B-return_date.day_number': 58, 'B-return_date.month_name': 59, 'B-return_date.today_relative': 60, 'B-return_time.period_mod': 61, 'B-return_time.period_of_day': 62, 'B-round_trip': 63, 'B-state_code': 64, 'B-state_name': 65, 'B-stoploc.airport_name': 66, 'B-stoploc.city_name': 67, 'B-stoploc.state_code': 68, 'B-time': 69, 'B-time_relative': 70, 'B-today_relative': 71, 'B-toloc.airport_code': 72, 'B-toloc.airport_name': 73, 'B-toloc.city_name': 74, 'B-toloc.country_name': 75, 'B-toloc.state_code': 76, 'B-toloc.state_name': 77, 'B-transport_type': 78, 'I-aircraft_code': 79, 'I-airline_code': 80, 'I-airline_name': 81, 'I-airport_code': 82, 'I-airport_name': 83, 'I-arrive_date.day_name': 84, 'I-arrive_date.day_number': 85, 'I-arrive_time.end_time': 86, 'I-arrive_time.period_of_day': 87, 'I-arrive_time.start_time': 88, 'I-arrive_time.time': 89, 'I-arrive_time.time_relative': 90, 'I-city_name': 91, 'I-class_type': 92, 'I-cost_relative': 93, 'I-depart_date.day_name': 94, 'I-depart_date.day_number': 95, 'I-depart_date.today_relative': 96, 'I-depart_time.end_time': 97, 'I-depart_time.period_of_day': 98, 'I-depart_time.start_time': 99, 'I-depart_time.time': 100, 'I-depart_time.time_relative': 101, 'I-economy': 102, 'I-fare_amount': 103, 'I-fare_basis_code': 104, 'I-flight_mod': 105, 'I-flight_number': 106, 'I-flight_stop': 107, 'I-flight_time': 108, 'I-fromloc.airport_code': 109, 'I-fromloc.airport_name': 110, 'I-fromloc.city_name': 111, 'I-fromloc.state_name': 112, 'I-meal_code': 113, 'I-meal_description': 114, 'I-mod': 115, 'I-restriction_code': 116, 'I-return_date.date_relative': 117, 'I-return_date.day_number': 118, 'I-return_date.today_relative': 119, 'I-round_trip': 120, 'I-stoploc.airport_name': 121, 'I-stoploc.city_name': 122, 'I-time': 123, 'I-today_relative': 124, 'I-toloc.airport_code': 125, 'I-toloc.airport_name': 126, 'I-toloc.city_name': 127, 'I-toloc.state_name': 128, 'I-transport_type': 129, 'O': 130}\n"
          ]
        }
      ],
      "source": [
        "# function that creates a mapping from label to id and from id to label\n",
        "def create_label_mapping(unique_labels):\n",
        "    # Create a mapping from labels to ids and vice versa\n",
        "    label2id = {label: i for i, label in enumerate(unique_labels)}\n",
        "    id2label = {i: label for label, i in label2id.items()}\n",
        "\n",
        "    return label2id, id2label\n",
        "\n",
        "# Create label mappings\n",
        "label2id, id2label = create_label_mapping(sorted(unique_labels))\n",
        "print(label2id)"
      ]
    },
    {
      "cell_type": "code",
      "execution_count": null,
      "metadata": {
        "colab": {
          "base_uri": "https://localhost:8080/"
        },
        "id": "YHzk7VioNb07",
        "outputId": "98fea75e-f9cb-494f-9074-662ce8489c9b"
      },
      "outputs": [
        {
          "output_type": "stream",
          "name": "stderr",
          "text": [
            "IOPub data rate exceeded.\n",
            "The notebook server will temporarily stop sending output\n",
            "to the client in order to avoid crashing it.\n",
            "To change this limit, set the config variable\n",
            "`--NotebookApp.iopub_data_rate_limit`.\n",
            "\n",
            "Current values:\n",
            "NotebookApp.iopub_data_rate_limit=1000000.0 (bytes/sec)\n",
            "NotebookApp.rate_limit_window=3.0 (secs)\n",
            "\n"
          ]
        }
      ],
      "source": [
        "aligned_labels_ids = [[label2id[label] for label in example_labels] for example_labels in aligned_labels]\n",
        "print(aligned_labels_ids)"
      ]
    },
    {
      "cell_type": "code",
      "execution_count": null,
      "metadata": {
        "id": "ti6VSPYcNb07"
      },
      "outputs": [],
      "source": [
        "from sklearn.model_selection import train_test_split\n",
        "\n",
        "# Assuming token_vectors and tags_numerical are your full dataset.\n",
        "train_tokenized_texts, test_tokenized_texts, train_aligned_labels_ids, test_aligned_labels_ids = train_test_split(\n",
        "    tokenized_texts, aligned_labels_ids, test_size=0.2, random_state=42\n",
        ")\n"
      ]
    },
    {
      "cell_type": "markdown",
      "metadata": {
        "id": "HoQXxBUNNb07"
      },
      "source": [
        "## Step 3: Fine-Tune the Model"
      ]
    },
    {
      "cell_type": "code",
      "execution_count": null,
      "metadata": {
        "id": "zj5-i5uzNb07"
      },
      "outputs": [],
      "source": [
        "from transformers import AutoModelForTokenClassification, AutoConfig\n",
        "\n",
        "# Load the configuration of the model\n",
        "config = AutoConfig.from_pretrained('bert-base-uncased', num_labels=number_of_labels)\n",
        "\n",
        "# Load the pre-trained model for token classification\n",
        "model = AutoModelForTokenClassification.from_config(config)\n"
      ]
    },
    {
      "cell_type": "markdown",
      "metadata": {
        "id": "RwQlDfwENb07"
      },
      "source": [
        "3.1. Prepare the Dataset"
      ]
    },
    {
      "cell_type": "code",
      "execution_count": null,
      "metadata": {
        "id": "FwTSe_8PNb07"
      },
      "outputs": [],
      "source": [
        "import torch\n",
        "from torch.utils.data import Dataset\n",
        "\n",
        "class EntityExtractionDataset(Dataset):\n",
        "    def __init__(self, tokenized_data, labels):\n",
        "        self.tokenized_data = tokenized_data\n",
        "        self.labels = labels\n",
        "\n",
        "    def __len__(self):\n",
        "        return len(self.tokenized_data)\n",
        "\n",
        "    def __getitem__(self, idx):\n",
        "        item_tokenized_data = self.tokenized_data[idx]\n",
        "        item_labels = self.labels[idx]\n",
        "\n",
        "        # Remove the extra singleton dimension\n",
        "        item = {key: value.squeeze(0) for key, value in item_tokenized_data.items() if key != 'offset_mapping'}\n",
        "\n",
        "        # Ensure 'labels' also does not have the extra dimension\n",
        "        item['labels'] = torch.tensor(item_labels, dtype=torch.long).squeeze(0)\n",
        "\n",
        "        return item\n",
        "\n",
        "\n",
        "# Convert your data into the dataset\n",
        "train_dataset = EntityExtractionDataset(train_tokenized_texts, train_aligned_labels_ids)\n"
      ]
    },
    {
      "cell_type": "markdown",
      "metadata": {
        "id": "pXZj3DmpNb07"
      },
      "source": [
        "3.2. Set Training Arguments"
      ]
    },
    {
      "cell_type": "code",
      "execution_count": null,
      "metadata": {
        "colab": {
          "base_uri": "https://localhost:8080/"
        },
        "id": "vjaV0Na7Nb07",
        "outputId": "ecaffdad-c647-4d02-b643-af1baf4b312c"
      },
      "outputs": [
        {
          "output_type": "stream",
          "name": "stdout",
          "text": [
            "Requirement already satisfied: accelerate in /usr/local/lib/python3.10/dist-packages (0.27.2)\n",
            "Requirement already satisfied: numpy>=1.17 in /usr/local/lib/python3.10/dist-packages (from accelerate) (1.25.2)\n",
            "Requirement already satisfied: packaging>=20.0 in /usr/local/lib/python3.10/dist-packages (from accelerate) (23.2)\n",
            "Requirement already satisfied: psutil in /usr/local/lib/python3.10/dist-packages (from accelerate) (5.9.5)\n",
            "Requirement already satisfied: pyyaml in /usr/local/lib/python3.10/dist-packages (from accelerate) (6.0.1)\n",
            "Requirement already satisfied: torch>=1.10.0 in /usr/local/lib/python3.10/dist-packages (from accelerate) (2.1.0+cu121)\n",
            "Requirement already satisfied: huggingface-hub in /usr/local/lib/python3.10/dist-packages (from accelerate) (0.20.3)\n",
            "Requirement already satisfied: safetensors>=0.3.1 in /usr/local/lib/python3.10/dist-packages (from accelerate) (0.4.2)\n",
            "Requirement already satisfied: filelock in /usr/local/lib/python3.10/dist-packages (from torch>=1.10.0->accelerate) (3.13.1)\n",
            "Requirement already satisfied: typing-extensions in /usr/local/lib/python3.10/dist-packages (from torch>=1.10.0->accelerate) (4.9.0)\n",
            "Requirement already satisfied: sympy in /usr/local/lib/python3.10/dist-packages (from torch>=1.10.0->accelerate) (1.12)\n",
            "Requirement already satisfied: networkx in /usr/local/lib/python3.10/dist-packages (from torch>=1.10.0->accelerate) (3.2.1)\n",
            "Requirement already satisfied: jinja2 in /usr/local/lib/python3.10/dist-packages (from torch>=1.10.0->accelerate) (3.1.3)\n",
            "Requirement already satisfied: fsspec in /usr/local/lib/python3.10/dist-packages (from torch>=1.10.0->accelerate) (2023.6.0)\n",
            "Requirement already satisfied: triton==2.1.0 in /usr/local/lib/python3.10/dist-packages (from torch>=1.10.0->accelerate) (2.1.0)\n",
            "Requirement already satisfied: requests in /usr/local/lib/python3.10/dist-packages (from huggingface-hub->accelerate) (2.31.0)\n",
            "Requirement already satisfied: tqdm>=4.42.1 in /usr/local/lib/python3.10/dist-packages (from huggingface-hub->accelerate) (4.66.2)\n",
            "Requirement already satisfied: MarkupSafe>=2.0 in /usr/local/lib/python3.10/dist-packages (from jinja2->torch>=1.10.0->accelerate) (2.1.5)\n",
            "Requirement already satisfied: charset-normalizer<4,>=2 in /usr/local/lib/python3.10/dist-packages (from requests->huggingface-hub->accelerate) (3.3.2)\n",
            "Requirement already satisfied: idna<4,>=2.5 in /usr/local/lib/python3.10/dist-packages (from requests->huggingface-hub->accelerate) (3.6)\n",
            "Requirement already satisfied: urllib3<3,>=1.21.1 in /usr/local/lib/python3.10/dist-packages (from requests->huggingface-hub->accelerate) (2.0.7)\n",
            "Requirement already satisfied: certifi>=2017.4.17 in /usr/local/lib/python3.10/dist-packages (from requests->huggingface-hub->accelerate) (2024.2.2)\n",
            "Requirement already satisfied: mpmath>=0.19 in /usr/local/lib/python3.10/dist-packages (from sympy->torch>=1.10.0->accelerate) (1.3.0)\n"
          ]
        }
      ],
      "source": [
        "!pip install accelerate -U"
      ]
    },
    {
      "cell_type": "code",
      "execution_count": null,
      "metadata": {
        "id": "WQlQJ7F0Nb07"
      },
      "outputs": [],
      "source": [
        "from transformers import TrainingArguments\n",
        "\n",
        "training_args = TrainingArguments(\n",
        "    output_dir='./results',          # Directory where the model predictions and checkpoints will be written\n",
        "    num_train_epochs=3,              # Total number of training epochs\n",
        "    per_device_train_batch_size=16,  # Batch size per device during training\n",
        "    warmup_steps=500,                # Number of warmup steps for learning rate scheduler\n",
        "    weight_decay=0.01,               # Strength of weight decay\n",
        "    logging_dir='./logs',            # Directory for storing logs\n",
        ")\n"
      ]
    },
    {
      "cell_type": "markdown",
      "metadata": {
        "id": "DOeBvrwdNb07"
      },
      "source": [
        "3.3. Initialize the Trainer"
      ]
    },
    {
      "cell_type": "code",
      "execution_count": null,
      "metadata": {
        "id": "qz6VKjCgNb07"
      },
      "outputs": [],
      "source": [
        "from transformers import Trainer\n",
        "\n",
        "trainer = Trainer(\n",
        "    model=model,\n",
        "    args=training_args,\n",
        "    train_dataset=train_dataset,\n",
        ")\n"
      ]
    },
    {
      "cell_type": "markdown",
      "metadata": {
        "id": "Y4E0vjDQNb07"
      },
      "source": [
        "3.4. Train"
      ]
    },
    {
      "cell_type": "code",
      "execution_count": null,
      "metadata": {
        "colab": {
          "base_uri": "https://localhost:8080/",
          "height": 160
        },
        "id": "A8Ztdr0ONb07",
        "outputId": "5e4a2204-2434-412c-b8d2-81c7a42aae88"
      },
      "outputs": [
        {
          "output_type": "display_data",
          "data": {
            "text/plain": [
              "<IPython.core.display.HTML object>"
            ],
            "text/html": [
              "\n",
              "    <div>\n",
              "      \n",
              "      <progress value='747' max='747' style='width:300px; height:20px; vertical-align: middle;'></progress>\n",
              "      [747/747 18:49, Epoch 3/3]\n",
              "    </div>\n",
              "    <table border=\"1\" class=\"dataframe\">\n",
              "  <thead>\n",
              " <tr style=\"text-align: left;\">\n",
              "      <th>Step</th>\n",
              "      <th>Training Loss</th>\n",
              "    </tr>\n",
              "  </thead>\n",
              "  <tbody>\n",
              "    <tr>\n",
              "      <td>500</td>\n",
              "      <td>0.215100</td>\n",
              "    </tr>\n",
              "  </tbody>\n",
              "</table><p>"
            ]
          },
          "metadata": {}
        },
        {
          "output_type": "execute_result",
          "data": {
            "text/plain": [
              "TrainOutput(global_step=747, training_loss=0.14584554853528697, metrics={'train_runtime': 1132.5969, 'train_samples_per_second': 10.547, 'train_steps_per_second': 0.66, 'total_flos': 3125091545376768.0, 'train_loss': 0.14584554853528697, 'epoch': 3.0})"
            ]
          },
          "metadata": {},
          "execution_count": 12
        }
      ],
      "source": [
        "trainer.train()"
      ]
    },
    {
      "cell_type": "markdown",
      "metadata": {
        "id": "eps8KZLQNb08"
      },
      "source": [
        "## evaluate the model"
      ]
    },
    {
      "cell_type": "code",
      "execution_count": null,
      "metadata": {
        "id": "D2NUdgPkNb08"
      },
      "outputs": [],
      "source": [
        "test_dataset = EntityExtractionDataset(test_tokenized_texts, test_aligned_labels_ids)"
      ]
    },
    {
      "cell_type": "code",
      "execution_count": null,
      "metadata": {
        "colab": {
          "base_uri": "https://localhost:8080/",
          "height": 75
        },
        "id": "JYpqKMZTNb08",
        "outputId": "e6be8ed6-4723-4aa2-c6df-cde93a6d9707"
      },
      "outputs": [
        {
          "output_type": "display_data",
          "data": {
            "text/plain": [
              "<IPython.core.display.HTML object>"
            ],
            "text/html": [
              "\n",
              "    <div>\n",
              "      \n",
              "      <progress value='125' max='125' style='width:300px; height:20px; vertical-align: middle;'></progress>\n",
              "      [125/125 00:31]\n",
              "    </div>\n",
              "    "
            ]
          },
          "metadata": {}
        },
        {
          "output_type": "stream",
          "name": "stdout",
          "text": [
            "Evaluation Results: {'eval_loss': 0.004335838370025158, 'eval_runtime': 31.6938, 'eval_samples_per_second': 31.426, 'eval_steps_per_second': 3.944, 'epoch': 3.0}\n"
          ]
        }
      ],
      "source": [
        "eval_results = trainer.evaluate(test_dataset)\n",
        "print(\"Evaluation Results:\", eval_results)"
      ]
    },
    {
      "cell_type": "code",
      "execution_count": null,
      "metadata": {
        "colab": {
          "base_uri": "https://localhost:8080/",
          "height": 17
        },
        "id": "ODPUkrPwNb08",
        "outputId": "33a9f781-88ee-4f6f-ae79-9e579f290d6a"
      },
      "outputs": [
        {
          "output_type": "display_data",
          "data": {
            "text/plain": [
              "<IPython.core.display.HTML object>"
            ],
            "text/html": []
          },
          "metadata": {}
        }
      ],
      "source": [
        "predictions, labels, _ = trainer.predict(test_dataset)"
      ]
    },
    {
      "cell_type": "code",
      "execution_count": null,
      "metadata": {
        "id": "D092RKTSNb08"
      },
      "outputs": [],
      "source": [
        "import numpy as np\n",
        "import torch\n",
        "\n",
        "# Apply softmax to convert logits to probabilities\n",
        "probabilities = torch.softmax(torch.tensor(predictions), dim=-1)\n",
        "\n",
        "# Convert probabilities to label IDs\n",
        "predicted_label_ids = torch.argmax(probabilities, dim=-1).numpy()\n",
        "\n",
        "# Convert the label IDs to label strings using id2label\n",
        "predicted_labels = [[id2label[label_id] for label_id in sentence] for sentence in predicted_label_ids]\n",
        "true_labels = [[id2label[label_id] for label_id in sentence] for sentence in test_aligned_labels_ids]"
      ]
    },
    {
      "cell_type": "code",
      "execution_count": null,
      "metadata": {
        "colab": {
          "base_uri": "https://localhost:8080/"
        },
        "id": "2CImexNiNb08",
        "outputId": "6ea39d0e-3dd9-4432-a595-c902bc48cd20"
      },
      "outputs": [
        {
          "output_type": "stream",
          "name": "stderr",
          "text": [
            "/usr/local/lib/python3.10/dist-packages/sklearn/metrics/_classification.py:1344: UndefinedMetricWarning: Precision and F-score are ill-defined and being set to 0.0 in labels with no predicted samples. Use `zero_division` parameter to control this behavior.\n",
            "  _warn_prf(average, modifier, msg_start, len(result))\n",
            "/usr/local/lib/python3.10/dist-packages/sklearn/metrics/_classification.py:1344: UndefinedMetricWarning: Recall and F-score are ill-defined and being set to 0.0 in labels with no true samples. Use `zero_division` parameter to control this behavior.\n",
            "  _warn_prf(average, modifier, msg_start, len(result))\n",
            "/usr/local/lib/python3.10/dist-packages/sklearn/metrics/_classification.py:1344: UndefinedMetricWarning: Precision and F-score are ill-defined and being set to 0.0 in labels with no predicted samples. Use `zero_division` parameter to control this behavior.\n",
            "  _warn_prf(average, modifier, msg_start, len(result))\n",
            "/usr/local/lib/python3.10/dist-packages/sklearn/metrics/_classification.py:1344: UndefinedMetricWarning: Recall and F-score are ill-defined and being set to 0.0 in labels with no true samples. Use `zero_division` parameter to control this behavior.\n",
            "  _warn_prf(average, modifier, msg_start, len(result))\n"
          ]
        },
        {
          "output_type": "stream",
          "name": "stdout",
          "text": [
            "                              precision    recall  f1-score   support\n",
            "\n",
            "             B-aircraft_code       0.00      0.00      0.00         3\n",
            "              B-airline_code       1.00      0.96      0.98        25\n",
            "              B-airline_name       0.99      0.97      0.98       138\n",
            "              B-airport_code       0.60      0.60      0.60         5\n",
            "              B-airport_name       0.00      0.00      0.00         9\n",
            " B-arrive_date.date_relative       0.00      0.00      0.00         1\n",
            "      B-arrive_date.day_name       1.00      0.31      0.47        13\n",
            "    B-arrive_date.day_number       0.00      0.00      0.00         7\n",
            "    B-arrive_date.month_name       1.00      0.14      0.25         7\n",
            "B-arrive_date.today_relative       0.00      0.00      0.00         0\n",
            "      B-arrive_time.end_time       0.00      0.00      0.00         3\n",
            "    B-arrive_time.period_mod       0.00      0.00      0.00         0\n",
            " B-arrive_time.period_of_day       0.00      0.00      0.00        13\n",
            "    B-arrive_time.start_time       0.00      0.00      0.00         4\n",
            "          B-arrive_time.time       0.64      0.68      0.66        37\n",
            " B-arrive_time.time_relative       0.77      0.67      0.72        36\n",
            "                 B-city_name       0.70      0.88      0.78        32\n",
            "                B-class_type       0.89      0.89      0.89        44\n",
            "                   B-connect       1.00      0.54      0.70        13\n",
            "             B-cost_relative       0.97      1.00      0.99        77\n",
            "                  B-day_name       0.00      0.00      0.00         0\n",
            "                B-day_number       0.00      0.00      0.00         0\n",
            "                 B-days_code       0.00      0.00      0.00         0\n",
            " B-depart_date.date_relative       0.92      0.92      0.92        13\n",
            "      B-depart_date.day_name       0.95      0.99      0.97       171\n",
            "    B-depart_date.day_number       0.76      0.91      0.82        75\n",
            "    B-depart_date.month_name       0.92      0.99      0.95        74\n",
            "B-depart_date.today_relative       1.00      1.00      1.00        13\n",
            "          B-depart_date.year       1.00      0.80      0.89         5\n",
            "      B-depart_time.end_time       1.00      0.50      0.67         4\n",
            "    B-depart_time.period_mod       0.89      0.80      0.84        10\n",
            " B-depart_time.period_of_day       0.85      0.95      0.90       122\n",
            "    B-depart_time.start_time       1.00      0.75      0.86         4\n",
            "          B-depart_time.time       0.75      0.83      0.79        66\n",
            " B-depart_time.time_relative       0.82      0.80      0.81        56\n",
            "                   B-economy       1.00      1.00      1.00        10\n",
            "               B-fare_amount       1.00      0.64      0.78        14\n",
            "           B-fare_basis_code       1.00      0.92      0.96        13\n",
            "               B-flight_days       1.00      1.00      1.00        13\n",
            "                B-flight_mod       0.98      0.87      0.92        68\n",
            "             B-flight_number       0.20      0.06      0.09        17\n",
            "               B-flight_stop       1.00      0.78      0.88        36\n",
            "               B-flight_time       0.46      0.55      0.50        11\n",
            "      B-fromloc.airport_code       0.00      0.00      0.00         1\n",
            "      B-fromloc.airport_name       0.43      0.43      0.43        14\n",
            "         B-fromloc.city_name       0.96      0.96      0.96       873\n",
            "        B-fromloc.state_code       1.00      0.78      0.88         9\n",
            "        B-fromloc.state_name       1.00      0.12      0.22         8\n",
            "                      B-meal       1.00      1.00      1.00         8\n",
            "                 B-meal_code       0.00      0.00      0.00         0\n",
            "          B-meal_description       0.93      0.93      0.93        14\n",
            "                       B-mod       1.00      0.50      0.67         4\n",
            "                B-month_name       0.00      0.00      0.00         0\n",
            "                        B-or       0.73      1.00      0.84         8\n",
            "             B-period_of_day       0.00      0.00      0.00         1\n",
            "          B-restriction_code       1.00      1.00      1.00         3\n",
            " B-return_date.date_relative       0.00      0.00      0.00         0\n",
            "      B-return_date.day_name       0.00      0.00      0.00         0\n",
            "    B-return_date.day_number       0.00      0.00      0.00         1\n",
            "    B-return_date.month_name       0.00      0.00      0.00         1\n",
            "B-return_date.today_relative       0.00      0.00      0.00         0\n",
            "    B-return_time.period_mod       0.00      0.00      0.00         0\n",
            " B-return_time.period_of_day       0.00      0.00      0.00         1\n",
            "                B-round_trip       0.89      0.99      0.93        72\n",
            "                B-state_code       0.00      0.00      0.00         1\n",
            "                B-state_name       0.00      0.00      0.00         1\n",
            "      B-stoploc.airport_name       0.00      0.00      0.00         0\n",
            "         B-stoploc.city_name       0.94      0.60      0.73        57\n",
            "        B-stoploc.state_code       0.00      0.00      0.00         1\n",
            "                      B-time       0.00      0.00      0.00         0\n",
            "             B-time_relative       0.00      0.00      0.00         0\n",
            "            B-today_relative       0.00      0.00      0.00         0\n",
            "        B-toloc.airport_code       1.00      0.20      0.33         5\n",
            "        B-toloc.airport_name       1.00      0.10      0.18        10\n",
            "           B-toloc.city_name       0.93      0.97      0.95       890\n",
            "        B-toloc.country_name       0.00      0.00      0.00         0\n",
            "          B-toloc.state_code       0.78      1.00      0.88        14\n",
            "          B-toloc.state_name       0.56      0.71      0.63        14\n",
            "            B-transport_type       0.75      0.50      0.60         6\n",
            "             I-aircraft_code       0.00      0.00      0.00         3\n",
            "              I-airline_code       1.00      1.00      1.00        15\n",
            "              I-airline_name       0.89      0.82      0.86        90\n",
            "              I-airport_code       1.00      0.67      0.80         6\n",
            "              I-airport_name       1.00      0.08      0.15        12\n",
            "      I-arrive_date.day_name       0.00      0.00      0.00         0\n",
            "    I-arrive_date.day_number       0.00      0.00      0.00         1\n",
            "      I-arrive_time.end_time       0.00      0.00      0.00         4\n",
            " I-arrive_time.period_of_day       0.00      0.00      0.00         0\n",
            "    I-arrive_time.start_time       0.00      0.00      0.00         2\n",
            "          I-arrive_time.time       0.62      0.57      0.60        35\n",
            " I-arrive_time.time_relative       0.00      0.00      0.00         0\n",
            "                 I-city_name       0.86      1.00      0.92         6\n",
            "                I-class_type       0.79      0.97      0.87        34\n",
            "             I-cost_relative       1.00      0.97      0.98        62\n",
            "      I-depart_date.day_name       1.00      0.33      0.50         6\n",
            "    I-depart_date.day_number       0.86      0.71      0.77        34\n",
            "I-depart_date.today_relative       0.00      0.00      0.00         0\n",
            "      I-depart_time.end_time       0.00      0.00      0.00         2\n",
            " I-depart_time.period_of_day       0.00      0.00      0.00         3\n",
            "    I-depart_time.start_time       1.00      1.00      1.00         1\n",
            "          I-depart_time.time       0.78      0.85      0.82        75\n",
            " I-depart_time.time_relative       0.00      0.00      0.00         0\n",
            "                   I-economy       0.00      0.00      0.00         3\n",
            "               I-fare_amount       1.00      0.84      0.91        19\n",
            "           I-fare_basis_code       0.70      0.88      0.78         8\n",
            "                I-flight_mod       0.00      0.00      0.00         3\n",
            "             I-flight_number       0.00      0.00      0.00         8\n",
            "               I-flight_stop       0.00      0.00      0.00        10\n",
            "               I-flight_time       0.00      0.00      0.00         7\n",
            "      I-fromloc.airport_code       0.00      0.00      0.00         1\n",
            "      I-fromloc.airport_name       0.39      0.60      0.47        20\n",
            "         I-fromloc.city_name       0.88      0.91      0.90       141\n",
            "        I-fromloc.state_name       0.00      0.00      0.00         0\n",
            "                 I-meal_code       0.00      0.00      0.00         0\n",
            "          I-meal_description       0.00      0.00      0.00         0\n",
            "                       I-mod       0.00      0.00      0.00         0\n",
            "          I-restriction_code       1.00      0.25      0.40         4\n",
            " I-return_date.date_relative       0.00      0.00      0.00         0\n",
            "    I-return_date.day_number       0.00      0.00      0.00         1\n",
            "I-return_date.today_relative       0.00      0.00      0.00         0\n",
            "                I-round_trip       0.93      0.99      0.96        67\n",
            "      I-stoploc.airport_name       0.00      0.00      0.00         0\n",
            "         I-stoploc.city_name       1.00      0.67      0.80        15\n",
            "                      I-time       0.00      0.00      0.00         0\n",
            "            I-today_relative       0.00      0.00      0.00         0\n",
            "        I-toloc.airport_code       1.00      0.71      0.83         7\n",
            "        I-toloc.airport_name       1.00      0.07      0.13        14\n",
            "           I-toloc.city_name       0.91      0.96      0.93       235\n",
            "          I-toloc.state_name       0.00      0.00      0.00         0\n",
            "            I-transport_type       0.00      0.00      0.00         1\n",
            "                           O       1.00      1.00      1.00    505718\n",
            "\n",
            "                   micro avg       1.00      1.00      1.00    509952\n",
            "                   macro avg       0.48      0.40      0.41    509952\n",
            "                weighted avg       1.00      1.00      1.00    509952\n",
            "\n"
          ]
        },
        {
          "output_type": "stream",
          "name": "stderr",
          "text": [
            "/usr/local/lib/python3.10/dist-packages/sklearn/metrics/_classification.py:1344: UndefinedMetricWarning: Precision and F-score are ill-defined and being set to 0.0 in labels with no predicted samples. Use `zero_division` parameter to control this behavior.\n",
            "  _warn_prf(average, modifier, msg_start, len(result))\n",
            "/usr/local/lib/python3.10/dist-packages/sklearn/metrics/_classification.py:1344: UndefinedMetricWarning: Recall and F-score are ill-defined and being set to 0.0 in labels with no true samples. Use `zero_division` parameter to control this behavior.\n",
            "  _warn_prf(average, modifier, msg_start, len(result))\n"
          ]
        }
      ],
      "source": [
        "from sklearn.metrics import classification_report\n",
        "\n",
        "all_true_labels = []\n",
        "all_predictions = []\n",
        "\n",
        "# test_aligned_labels_ids [data_len, 512] label id\n",
        "# predictions [data_len, 512, 131] float\n",
        "# predicted_labels [data_len, 512] label\n",
        "\n",
        "# test_aligned_labels_ids[0][0]\n",
        "\n",
        "# for i in range(len(test_dataset)):\n",
        "#     all_true_labels.extend([id2label[label_id] for label_id in test_aligned_labels_ids[i]])\n",
        "all_predictions.extend(predicted_labels)\n",
        "all_true_labels.extend(true_labels)\n",
        "\n",
        "# all_true_labels\n",
        "\n",
        "target_names = sorted(unique_labels)\n",
        "\n",
        "all_true_labels = [label for sublist in all_true_labels for label in sublist]\n",
        "all_predictions = [prediction for sublist in all_predictions for prediction in sublist]\n",
        "\n",
        "report = classification_report(all_true_labels, all_predictions, labels=sorted(unique_labels), target_names=target_names)\n",
        "print(report)"
      ]
    },
    {
      "source": [
        "len(all_true_labels[0])\n",
        "# print(all_predictions)"
      ],
      "cell_type": "code",
      "metadata": {
        "colab": {
          "base_uri": "https://localhost:8080/"
        },
        "id": "THDr47UzTK0E",
        "outputId": "6e5ccc69-f96b-4c7e-8542-3485fb9b0f95"
      },
      "execution_count": null,
      "outputs": [
        {
          "output_type": "execute_result",
          "data": {
            "text/plain": [
              "512"
            ]
          },
          "metadata": {},
          "execution_count": 29
        }
      ]
    }
  ],
  "metadata": {
    "kernelspec": {
      "display_name": "Python 3",
      "name": "python3"
    },
    "language_info": {
      "codemirror_mode": {
        "name": "ipython",
        "version": 3
      },
      "file_extension": ".py",
      "mimetype": "text/x-python",
      "name": "python",
      "nbconvert_exporter": "python",
      "pygments_lexer": "ipython3",
      "version": "3.11.4"
    },
    "colab": {
      "provenance": [],
      "gpuType": "T4"
    },
    "accelerator": "GPU",
    "widgets": {
      "application/vnd.jupyter.widget-state+json": {
        "54f7c814bc61430982d0700c10a5eb55": {
          "model_module": "@jupyter-widgets/controls",
          "model_name": "HBoxModel",
          "model_module_version": "1.5.0",
          "state": {
            "_dom_classes": [],
            "_model_module": "@jupyter-widgets/controls",
            "_model_module_version": "1.5.0",
            "_model_name": "HBoxModel",
            "_view_count": null,
            "_view_module": "@jupyter-widgets/controls",
            "_view_module_version": "1.5.0",
            "_view_name": "HBoxView",
            "box_style": "",
            "children": [
              "IPY_MODEL_4ccf6dcf67bd45109b477610d39fc5bd",
              "IPY_MODEL_116381b265504879996304c7a3e1be7f",
              "IPY_MODEL_4ae5263c57214aaaa24b1345153b916e"
            ],
            "layout": "IPY_MODEL_4b3d7ea4d0bd4846980767f9f6fdce01"
          }
        },
        "4ccf6dcf67bd45109b477610d39fc5bd": {
          "model_module": "@jupyter-widgets/controls",
          "model_name": "HTMLModel",
          "model_module_version": "1.5.0",
          "state": {
            "_dom_classes": [],
            "_model_module": "@jupyter-widgets/controls",
            "_model_module_version": "1.5.0",
            "_model_name": "HTMLModel",
            "_view_count": null,
            "_view_module": "@jupyter-widgets/controls",
            "_view_module_version": "1.5.0",
            "_view_name": "HTMLView",
            "description": "",
            "description_tooltip": null,
            "layout": "IPY_MODEL_56de42fc13454900b8b590ff80a3a7ed",
            "placeholder": "​",
            "style": "IPY_MODEL_3004335dac7e4c0ea108a69cb5f8a734",
            "value": "tokenizer_config.json: 100%"
          }
        },
        "116381b265504879996304c7a3e1be7f": {
          "model_module": "@jupyter-widgets/controls",
          "model_name": "FloatProgressModel",
          "model_module_version": "1.5.0",
          "state": {
            "_dom_classes": [],
            "_model_module": "@jupyter-widgets/controls",
            "_model_module_version": "1.5.0",
            "_model_name": "FloatProgressModel",
            "_view_count": null,
            "_view_module": "@jupyter-widgets/controls",
            "_view_module_version": "1.5.0",
            "_view_name": "ProgressView",
            "bar_style": "success",
            "description": "",
            "description_tooltip": null,
            "layout": "IPY_MODEL_77278d5cae234cdd918493796f2d2508",
            "max": 48,
            "min": 0,
            "orientation": "horizontal",
            "style": "IPY_MODEL_fdc4ecff5ad6434291f9d0435070661a",
            "value": 48
          }
        },
        "4ae5263c57214aaaa24b1345153b916e": {
          "model_module": "@jupyter-widgets/controls",
          "model_name": "HTMLModel",
          "model_module_version": "1.5.0",
          "state": {
            "_dom_classes": [],
            "_model_module": "@jupyter-widgets/controls",
            "_model_module_version": "1.5.0",
            "_model_name": "HTMLModel",
            "_view_count": null,
            "_view_module": "@jupyter-widgets/controls",
            "_view_module_version": "1.5.0",
            "_view_name": "HTMLView",
            "description": "",
            "description_tooltip": null,
            "layout": "IPY_MODEL_08963c3531e04e51a7381a736668a14b",
            "placeholder": "​",
            "style": "IPY_MODEL_7a28dadf87e84462b62e4129dfe580fd",
            "value": " 48.0/48.0 [00:00&lt;00:00, 833B/s]"
          }
        },
        "4b3d7ea4d0bd4846980767f9f6fdce01": {
          "model_module": "@jupyter-widgets/base",
          "model_name": "LayoutModel",
          "model_module_version": "1.2.0",
          "state": {
            "_model_module": "@jupyter-widgets/base",
            "_model_module_version": "1.2.0",
            "_model_name": "LayoutModel",
            "_view_count": null,
            "_view_module": "@jupyter-widgets/base",
            "_view_module_version": "1.2.0",
            "_view_name": "LayoutView",
            "align_content": null,
            "align_items": null,
            "align_self": null,
            "border": null,
            "bottom": null,
            "display": null,
            "flex": null,
            "flex_flow": null,
            "grid_area": null,
            "grid_auto_columns": null,
            "grid_auto_flow": null,
            "grid_auto_rows": null,
            "grid_column": null,
            "grid_gap": null,
            "grid_row": null,
            "grid_template_areas": null,
            "grid_template_columns": null,
            "grid_template_rows": null,
            "height": null,
            "justify_content": null,
            "justify_items": null,
            "left": null,
            "margin": null,
            "max_height": null,
            "max_width": null,
            "min_height": null,
            "min_width": null,
            "object_fit": null,
            "object_position": null,
            "order": null,
            "overflow": null,
            "overflow_x": null,
            "overflow_y": null,
            "padding": null,
            "right": null,
            "top": null,
            "visibility": null,
            "width": null
          }
        },
        "56de42fc13454900b8b590ff80a3a7ed": {
          "model_module": "@jupyter-widgets/base",
          "model_name": "LayoutModel",
          "model_module_version": "1.2.0",
          "state": {
            "_model_module": "@jupyter-widgets/base",
            "_model_module_version": "1.2.0",
            "_model_name": "LayoutModel",
            "_view_count": null,
            "_view_module": "@jupyter-widgets/base",
            "_view_module_version": "1.2.0",
            "_view_name": "LayoutView",
            "align_content": null,
            "align_items": null,
            "align_self": null,
            "border": null,
            "bottom": null,
            "display": null,
            "flex": null,
            "flex_flow": null,
            "grid_area": null,
            "grid_auto_columns": null,
            "grid_auto_flow": null,
            "grid_auto_rows": null,
            "grid_column": null,
            "grid_gap": null,
            "grid_row": null,
            "grid_template_areas": null,
            "grid_template_columns": null,
            "grid_template_rows": null,
            "height": null,
            "justify_content": null,
            "justify_items": null,
            "left": null,
            "margin": null,
            "max_height": null,
            "max_width": null,
            "min_height": null,
            "min_width": null,
            "object_fit": null,
            "object_position": null,
            "order": null,
            "overflow": null,
            "overflow_x": null,
            "overflow_y": null,
            "padding": null,
            "right": null,
            "top": null,
            "visibility": null,
            "width": null
          }
        },
        "3004335dac7e4c0ea108a69cb5f8a734": {
          "model_module": "@jupyter-widgets/controls",
          "model_name": "DescriptionStyleModel",
          "model_module_version": "1.5.0",
          "state": {
            "_model_module": "@jupyter-widgets/controls",
            "_model_module_version": "1.5.0",
            "_model_name": "DescriptionStyleModel",
            "_view_count": null,
            "_view_module": "@jupyter-widgets/base",
            "_view_module_version": "1.2.0",
            "_view_name": "StyleView",
            "description_width": ""
          }
        },
        "77278d5cae234cdd918493796f2d2508": {
          "model_module": "@jupyter-widgets/base",
          "model_name": "LayoutModel",
          "model_module_version": "1.2.0",
          "state": {
            "_model_module": "@jupyter-widgets/base",
            "_model_module_version": "1.2.0",
            "_model_name": "LayoutModel",
            "_view_count": null,
            "_view_module": "@jupyter-widgets/base",
            "_view_module_version": "1.2.0",
            "_view_name": "LayoutView",
            "align_content": null,
            "align_items": null,
            "align_self": null,
            "border": null,
            "bottom": null,
            "display": null,
            "flex": null,
            "flex_flow": null,
            "grid_area": null,
            "grid_auto_columns": null,
            "grid_auto_flow": null,
            "grid_auto_rows": null,
            "grid_column": null,
            "grid_gap": null,
            "grid_row": null,
            "grid_template_areas": null,
            "grid_template_columns": null,
            "grid_template_rows": null,
            "height": null,
            "justify_content": null,
            "justify_items": null,
            "left": null,
            "margin": null,
            "max_height": null,
            "max_width": null,
            "min_height": null,
            "min_width": null,
            "object_fit": null,
            "object_position": null,
            "order": null,
            "overflow": null,
            "overflow_x": null,
            "overflow_y": null,
            "padding": null,
            "right": null,
            "top": null,
            "visibility": null,
            "width": null
          }
        },
        "fdc4ecff5ad6434291f9d0435070661a": {
          "model_module": "@jupyter-widgets/controls",
          "model_name": "ProgressStyleModel",
          "model_module_version": "1.5.0",
          "state": {
            "_model_module": "@jupyter-widgets/controls",
            "_model_module_version": "1.5.0",
            "_model_name": "ProgressStyleModel",
            "_view_count": null,
            "_view_module": "@jupyter-widgets/base",
            "_view_module_version": "1.2.0",
            "_view_name": "StyleView",
            "bar_color": null,
            "description_width": ""
          }
        },
        "08963c3531e04e51a7381a736668a14b": {
          "model_module": "@jupyter-widgets/base",
          "model_name": "LayoutModel",
          "model_module_version": "1.2.0",
          "state": {
            "_model_module": "@jupyter-widgets/base",
            "_model_module_version": "1.2.0",
            "_model_name": "LayoutModel",
            "_view_count": null,
            "_view_module": "@jupyter-widgets/base",
            "_view_module_version": "1.2.0",
            "_view_name": "LayoutView",
            "align_content": null,
            "align_items": null,
            "align_self": null,
            "border": null,
            "bottom": null,
            "display": null,
            "flex": null,
            "flex_flow": null,
            "grid_area": null,
            "grid_auto_columns": null,
            "grid_auto_flow": null,
            "grid_auto_rows": null,
            "grid_column": null,
            "grid_gap": null,
            "grid_row": null,
            "grid_template_areas": null,
            "grid_template_columns": null,
            "grid_template_rows": null,
            "height": null,
            "justify_content": null,
            "justify_items": null,
            "left": null,
            "margin": null,
            "max_height": null,
            "max_width": null,
            "min_height": null,
            "min_width": null,
            "object_fit": null,
            "object_position": null,
            "order": null,
            "overflow": null,
            "overflow_x": null,
            "overflow_y": null,
            "padding": null,
            "right": null,
            "top": null,
            "visibility": null,
            "width": null
          }
        },
        "7a28dadf87e84462b62e4129dfe580fd": {
          "model_module": "@jupyter-widgets/controls",
          "model_name": "DescriptionStyleModel",
          "model_module_version": "1.5.0",
          "state": {
            "_model_module": "@jupyter-widgets/controls",
            "_model_module_version": "1.5.0",
            "_model_name": "DescriptionStyleModel",
            "_view_count": null,
            "_view_module": "@jupyter-widgets/base",
            "_view_module_version": "1.2.0",
            "_view_name": "StyleView",
            "description_width": ""
          }
        },
        "8c319714b0944fc1b8bb0768c3a2b1d5": {
          "model_module": "@jupyter-widgets/controls",
          "model_name": "HBoxModel",
          "model_module_version": "1.5.0",
          "state": {
            "_dom_classes": [],
            "_model_module": "@jupyter-widgets/controls",
            "_model_module_version": "1.5.0",
            "_model_name": "HBoxModel",
            "_view_count": null,
            "_view_module": "@jupyter-widgets/controls",
            "_view_module_version": "1.5.0",
            "_view_name": "HBoxView",
            "box_style": "",
            "children": [
              "IPY_MODEL_c0738ec11546476083f35413f232f190",
              "IPY_MODEL_a8d5f6b6bf0a4b8592802ed4b75bef91",
              "IPY_MODEL_22e0260840b244749226c669924416d4"
            ],
            "layout": "IPY_MODEL_3d669fb3ed1842baa3adb72075253278"
          }
        },
        "c0738ec11546476083f35413f232f190": {
          "model_module": "@jupyter-widgets/controls",
          "model_name": "HTMLModel",
          "model_module_version": "1.5.0",
          "state": {
            "_dom_classes": [],
            "_model_module": "@jupyter-widgets/controls",
            "_model_module_version": "1.5.0",
            "_model_name": "HTMLModel",
            "_view_count": null,
            "_view_module": "@jupyter-widgets/controls",
            "_view_module_version": "1.5.0",
            "_view_name": "HTMLView",
            "description": "",
            "description_tooltip": null,
            "layout": "IPY_MODEL_5bcb2ba60a7c479e8b745dc961bcebb1",
            "placeholder": "​",
            "style": "IPY_MODEL_b8173bae0dce47fea8fc3e4ed672991a",
            "value": "config.json: 100%"
          }
        },
        "a8d5f6b6bf0a4b8592802ed4b75bef91": {
          "model_module": "@jupyter-widgets/controls",
          "model_name": "FloatProgressModel",
          "model_module_version": "1.5.0",
          "state": {
            "_dom_classes": [],
            "_model_module": "@jupyter-widgets/controls",
            "_model_module_version": "1.5.0",
            "_model_name": "FloatProgressModel",
            "_view_count": null,
            "_view_module": "@jupyter-widgets/controls",
            "_view_module_version": "1.5.0",
            "_view_name": "ProgressView",
            "bar_style": "success",
            "description": "",
            "description_tooltip": null,
            "layout": "IPY_MODEL_299c683a5ad2460e9e7c642e8d64066b",
            "max": 570,
            "min": 0,
            "orientation": "horizontal",
            "style": "IPY_MODEL_94013385318243f59fe2395b8675a4ec",
            "value": 570
          }
        },
        "22e0260840b244749226c669924416d4": {
          "model_module": "@jupyter-widgets/controls",
          "model_name": "HTMLModel",
          "model_module_version": "1.5.0",
          "state": {
            "_dom_classes": [],
            "_model_module": "@jupyter-widgets/controls",
            "_model_module_version": "1.5.0",
            "_model_name": "HTMLModel",
            "_view_count": null,
            "_view_module": "@jupyter-widgets/controls",
            "_view_module_version": "1.5.0",
            "_view_name": "HTMLView",
            "description": "",
            "description_tooltip": null,
            "layout": "IPY_MODEL_5c717b47aff942439a16669105fd1512",
            "placeholder": "​",
            "style": "IPY_MODEL_cc31a518aa414eb89e2c64f67ab803b3",
            "value": " 570/570 [00:00&lt;00:00, 21.8kB/s]"
          }
        },
        "3d669fb3ed1842baa3adb72075253278": {
          "model_module": "@jupyter-widgets/base",
          "model_name": "LayoutModel",
          "model_module_version": "1.2.0",
          "state": {
            "_model_module": "@jupyter-widgets/base",
            "_model_module_version": "1.2.0",
            "_model_name": "LayoutModel",
            "_view_count": null,
            "_view_module": "@jupyter-widgets/base",
            "_view_module_version": "1.2.0",
            "_view_name": "LayoutView",
            "align_content": null,
            "align_items": null,
            "align_self": null,
            "border": null,
            "bottom": null,
            "display": null,
            "flex": null,
            "flex_flow": null,
            "grid_area": null,
            "grid_auto_columns": null,
            "grid_auto_flow": null,
            "grid_auto_rows": null,
            "grid_column": null,
            "grid_gap": null,
            "grid_row": null,
            "grid_template_areas": null,
            "grid_template_columns": null,
            "grid_template_rows": null,
            "height": null,
            "justify_content": null,
            "justify_items": null,
            "left": null,
            "margin": null,
            "max_height": null,
            "max_width": null,
            "min_height": null,
            "min_width": null,
            "object_fit": null,
            "object_position": null,
            "order": null,
            "overflow": null,
            "overflow_x": null,
            "overflow_y": null,
            "padding": null,
            "right": null,
            "top": null,
            "visibility": null,
            "width": null
          }
        },
        "5bcb2ba60a7c479e8b745dc961bcebb1": {
          "model_module": "@jupyter-widgets/base",
          "model_name": "LayoutModel",
          "model_module_version": "1.2.0",
          "state": {
            "_model_module": "@jupyter-widgets/base",
            "_model_module_version": "1.2.0",
            "_model_name": "LayoutModel",
            "_view_count": null,
            "_view_module": "@jupyter-widgets/base",
            "_view_module_version": "1.2.0",
            "_view_name": "LayoutView",
            "align_content": null,
            "align_items": null,
            "align_self": null,
            "border": null,
            "bottom": null,
            "display": null,
            "flex": null,
            "flex_flow": null,
            "grid_area": null,
            "grid_auto_columns": null,
            "grid_auto_flow": null,
            "grid_auto_rows": null,
            "grid_column": null,
            "grid_gap": null,
            "grid_row": null,
            "grid_template_areas": null,
            "grid_template_columns": null,
            "grid_template_rows": null,
            "height": null,
            "justify_content": null,
            "justify_items": null,
            "left": null,
            "margin": null,
            "max_height": null,
            "max_width": null,
            "min_height": null,
            "min_width": null,
            "object_fit": null,
            "object_position": null,
            "order": null,
            "overflow": null,
            "overflow_x": null,
            "overflow_y": null,
            "padding": null,
            "right": null,
            "top": null,
            "visibility": null,
            "width": null
          }
        },
        "b8173bae0dce47fea8fc3e4ed672991a": {
          "model_module": "@jupyter-widgets/controls",
          "model_name": "DescriptionStyleModel",
          "model_module_version": "1.5.0",
          "state": {
            "_model_module": "@jupyter-widgets/controls",
            "_model_module_version": "1.5.0",
            "_model_name": "DescriptionStyleModel",
            "_view_count": null,
            "_view_module": "@jupyter-widgets/base",
            "_view_module_version": "1.2.0",
            "_view_name": "StyleView",
            "description_width": ""
          }
        },
        "299c683a5ad2460e9e7c642e8d64066b": {
          "model_module": "@jupyter-widgets/base",
          "model_name": "LayoutModel",
          "model_module_version": "1.2.0",
          "state": {
            "_model_module": "@jupyter-widgets/base",
            "_model_module_version": "1.2.0",
            "_model_name": "LayoutModel",
            "_view_count": null,
            "_view_module": "@jupyter-widgets/base",
            "_view_module_version": "1.2.0",
            "_view_name": "LayoutView",
            "align_content": null,
            "align_items": null,
            "align_self": null,
            "border": null,
            "bottom": null,
            "display": null,
            "flex": null,
            "flex_flow": null,
            "grid_area": null,
            "grid_auto_columns": null,
            "grid_auto_flow": null,
            "grid_auto_rows": null,
            "grid_column": null,
            "grid_gap": null,
            "grid_row": null,
            "grid_template_areas": null,
            "grid_template_columns": null,
            "grid_template_rows": null,
            "height": null,
            "justify_content": null,
            "justify_items": null,
            "left": null,
            "margin": null,
            "max_height": null,
            "max_width": null,
            "min_height": null,
            "min_width": null,
            "object_fit": null,
            "object_position": null,
            "order": null,
            "overflow": null,
            "overflow_x": null,
            "overflow_y": null,
            "padding": null,
            "right": null,
            "top": null,
            "visibility": null,
            "width": null
          }
        },
        "94013385318243f59fe2395b8675a4ec": {
          "model_module": "@jupyter-widgets/controls",
          "model_name": "ProgressStyleModel",
          "model_module_version": "1.5.0",
          "state": {
            "_model_module": "@jupyter-widgets/controls",
            "_model_module_version": "1.5.0",
            "_model_name": "ProgressStyleModel",
            "_view_count": null,
            "_view_module": "@jupyter-widgets/base",
            "_view_module_version": "1.2.0",
            "_view_name": "StyleView",
            "bar_color": null,
            "description_width": ""
          }
        },
        "5c717b47aff942439a16669105fd1512": {
          "model_module": "@jupyter-widgets/base",
          "model_name": "LayoutModel",
          "model_module_version": "1.2.0",
          "state": {
            "_model_module": "@jupyter-widgets/base",
            "_model_module_version": "1.2.0",
            "_model_name": "LayoutModel",
            "_view_count": null,
            "_view_module": "@jupyter-widgets/base",
            "_view_module_version": "1.2.0",
            "_view_name": "LayoutView",
            "align_content": null,
            "align_items": null,
            "align_self": null,
            "border": null,
            "bottom": null,
            "display": null,
            "flex": null,
            "flex_flow": null,
            "grid_area": null,
            "grid_auto_columns": null,
            "grid_auto_flow": null,
            "grid_auto_rows": null,
            "grid_column": null,
            "grid_gap": null,
            "grid_row": null,
            "grid_template_areas": null,
            "grid_template_columns": null,
            "grid_template_rows": null,
            "height": null,
            "justify_content": null,
            "justify_items": null,
            "left": null,
            "margin": null,
            "max_height": null,
            "max_width": null,
            "min_height": null,
            "min_width": null,
            "object_fit": null,
            "object_position": null,
            "order": null,
            "overflow": null,
            "overflow_x": null,
            "overflow_y": null,
            "padding": null,
            "right": null,
            "top": null,
            "visibility": null,
            "width": null
          }
        },
        "cc31a518aa414eb89e2c64f67ab803b3": {
          "model_module": "@jupyter-widgets/controls",
          "model_name": "DescriptionStyleModel",
          "model_module_version": "1.5.0",
          "state": {
            "_model_module": "@jupyter-widgets/controls",
            "_model_module_version": "1.5.0",
            "_model_name": "DescriptionStyleModel",
            "_view_count": null,
            "_view_module": "@jupyter-widgets/base",
            "_view_module_version": "1.2.0",
            "_view_name": "StyleView",
            "description_width": ""
          }
        },
        "8046c20072884e31bcf3d5275ccca7b1": {
          "model_module": "@jupyter-widgets/controls",
          "model_name": "HBoxModel",
          "model_module_version": "1.5.0",
          "state": {
            "_dom_classes": [],
            "_model_module": "@jupyter-widgets/controls",
            "_model_module_version": "1.5.0",
            "_model_name": "HBoxModel",
            "_view_count": null,
            "_view_module": "@jupyter-widgets/controls",
            "_view_module_version": "1.5.0",
            "_view_name": "HBoxView",
            "box_style": "",
            "children": [
              "IPY_MODEL_51cf7498d9f24c2eafe9496094e73e91",
              "IPY_MODEL_b199eda55aa64977a96b79e8f39f4d3e",
              "IPY_MODEL_65f76ef2d95b4d96a91f120f44626a09"
            ],
            "layout": "IPY_MODEL_352a151a96d84c229e37e31689e6961c"
          }
        },
        "51cf7498d9f24c2eafe9496094e73e91": {
          "model_module": "@jupyter-widgets/controls",
          "model_name": "HTMLModel",
          "model_module_version": "1.5.0",
          "state": {
            "_dom_classes": [],
            "_model_module": "@jupyter-widgets/controls",
            "_model_module_version": "1.5.0",
            "_model_name": "HTMLModel",
            "_view_count": null,
            "_view_module": "@jupyter-widgets/controls",
            "_view_module_version": "1.5.0",
            "_view_name": "HTMLView",
            "description": "",
            "description_tooltip": null,
            "layout": "IPY_MODEL_0fbeae784aaa487a9b4cc548331558fc",
            "placeholder": "​",
            "style": "IPY_MODEL_9276dfcc20b54141a1904146972d09eb",
            "value": "vocab.txt: 100%"
          }
        },
        "b199eda55aa64977a96b79e8f39f4d3e": {
          "model_module": "@jupyter-widgets/controls",
          "model_name": "FloatProgressModel",
          "model_module_version": "1.5.0",
          "state": {
            "_dom_classes": [],
            "_model_module": "@jupyter-widgets/controls",
            "_model_module_version": "1.5.0",
            "_model_name": "FloatProgressModel",
            "_view_count": null,
            "_view_module": "@jupyter-widgets/controls",
            "_view_module_version": "1.5.0",
            "_view_name": "ProgressView",
            "bar_style": "success",
            "description": "",
            "description_tooltip": null,
            "layout": "IPY_MODEL_5aa688db384a4f56b539a447f84663fe",
            "max": 231508,
            "min": 0,
            "orientation": "horizontal",
            "style": "IPY_MODEL_07f3566b6f2d4a37a1d49c66024919cd",
            "value": 231508
          }
        },
        "65f76ef2d95b4d96a91f120f44626a09": {
          "model_module": "@jupyter-widgets/controls",
          "model_name": "HTMLModel",
          "model_module_version": "1.5.0",
          "state": {
            "_dom_classes": [],
            "_model_module": "@jupyter-widgets/controls",
            "_model_module_version": "1.5.0",
            "_model_name": "HTMLModel",
            "_view_count": null,
            "_view_module": "@jupyter-widgets/controls",
            "_view_module_version": "1.5.0",
            "_view_name": "HTMLView",
            "description": "",
            "description_tooltip": null,
            "layout": "IPY_MODEL_34d4a7dff8e347a883bd727a55b04ab9",
            "placeholder": "​",
            "style": "IPY_MODEL_f292ce55407146ce9fb166c00c3f5cea",
            "value": " 232k/232k [00:00&lt;00:00, 2.73MB/s]"
          }
        },
        "352a151a96d84c229e37e31689e6961c": {
          "model_module": "@jupyter-widgets/base",
          "model_name": "LayoutModel",
          "model_module_version": "1.2.0",
          "state": {
            "_model_module": "@jupyter-widgets/base",
            "_model_module_version": "1.2.0",
            "_model_name": "LayoutModel",
            "_view_count": null,
            "_view_module": "@jupyter-widgets/base",
            "_view_module_version": "1.2.0",
            "_view_name": "LayoutView",
            "align_content": null,
            "align_items": null,
            "align_self": null,
            "border": null,
            "bottom": null,
            "display": null,
            "flex": null,
            "flex_flow": null,
            "grid_area": null,
            "grid_auto_columns": null,
            "grid_auto_flow": null,
            "grid_auto_rows": null,
            "grid_column": null,
            "grid_gap": null,
            "grid_row": null,
            "grid_template_areas": null,
            "grid_template_columns": null,
            "grid_template_rows": null,
            "height": null,
            "justify_content": null,
            "justify_items": null,
            "left": null,
            "margin": null,
            "max_height": null,
            "max_width": null,
            "min_height": null,
            "min_width": null,
            "object_fit": null,
            "object_position": null,
            "order": null,
            "overflow": null,
            "overflow_x": null,
            "overflow_y": null,
            "padding": null,
            "right": null,
            "top": null,
            "visibility": null,
            "width": null
          }
        },
        "0fbeae784aaa487a9b4cc548331558fc": {
          "model_module": "@jupyter-widgets/base",
          "model_name": "LayoutModel",
          "model_module_version": "1.2.0",
          "state": {
            "_model_module": "@jupyter-widgets/base",
            "_model_module_version": "1.2.0",
            "_model_name": "LayoutModel",
            "_view_count": null,
            "_view_module": "@jupyter-widgets/base",
            "_view_module_version": "1.2.0",
            "_view_name": "LayoutView",
            "align_content": null,
            "align_items": null,
            "align_self": null,
            "border": null,
            "bottom": null,
            "display": null,
            "flex": null,
            "flex_flow": null,
            "grid_area": null,
            "grid_auto_columns": null,
            "grid_auto_flow": null,
            "grid_auto_rows": null,
            "grid_column": null,
            "grid_gap": null,
            "grid_row": null,
            "grid_template_areas": null,
            "grid_template_columns": null,
            "grid_template_rows": null,
            "height": null,
            "justify_content": null,
            "justify_items": null,
            "left": null,
            "margin": null,
            "max_height": null,
            "max_width": null,
            "min_height": null,
            "min_width": null,
            "object_fit": null,
            "object_position": null,
            "order": null,
            "overflow": null,
            "overflow_x": null,
            "overflow_y": null,
            "padding": null,
            "right": null,
            "top": null,
            "visibility": null,
            "width": null
          }
        },
        "9276dfcc20b54141a1904146972d09eb": {
          "model_module": "@jupyter-widgets/controls",
          "model_name": "DescriptionStyleModel",
          "model_module_version": "1.5.0",
          "state": {
            "_model_module": "@jupyter-widgets/controls",
            "_model_module_version": "1.5.0",
            "_model_name": "DescriptionStyleModel",
            "_view_count": null,
            "_view_module": "@jupyter-widgets/base",
            "_view_module_version": "1.2.0",
            "_view_name": "StyleView",
            "description_width": ""
          }
        },
        "5aa688db384a4f56b539a447f84663fe": {
          "model_module": "@jupyter-widgets/base",
          "model_name": "LayoutModel",
          "model_module_version": "1.2.0",
          "state": {
            "_model_module": "@jupyter-widgets/base",
            "_model_module_version": "1.2.0",
            "_model_name": "LayoutModel",
            "_view_count": null,
            "_view_module": "@jupyter-widgets/base",
            "_view_module_version": "1.2.0",
            "_view_name": "LayoutView",
            "align_content": null,
            "align_items": null,
            "align_self": null,
            "border": null,
            "bottom": null,
            "display": null,
            "flex": null,
            "flex_flow": null,
            "grid_area": null,
            "grid_auto_columns": null,
            "grid_auto_flow": null,
            "grid_auto_rows": null,
            "grid_column": null,
            "grid_gap": null,
            "grid_row": null,
            "grid_template_areas": null,
            "grid_template_columns": null,
            "grid_template_rows": null,
            "height": null,
            "justify_content": null,
            "justify_items": null,
            "left": null,
            "margin": null,
            "max_height": null,
            "max_width": null,
            "min_height": null,
            "min_width": null,
            "object_fit": null,
            "object_position": null,
            "order": null,
            "overflow": null,
            "overflow_x": null,
            "overflow_y": null,
            "padding": null,
            "right": null,
            "top": null,
            "visibility": null,
            "width": null
          }
        },
        "07f3566b6f2d4a37a1d49c66024919cd": {
          "model_module": "@jupyter-widgets/controls",
          "model_name": "ProgressStyleModel",
          "model_module_version": "1.5.0",
          "state": {
            "_model_module": "@jupyter-widgets/controls",
            "_model_module_version": "1.5.0",
            "_model_name": "ProgressStyleModel",
            "_view_count": null,
            "_view_module": "@jupyter-widgets/base",
            "_view_module_version": "1.2.0",
            "_view_name": "StyleView",
            "bar_color": null,
            "description_width": ""
          }
        },
        "34d4a7dff8e347a883bd727a55b04ab9": {
          "model_module": "@jupyter-widgets/base",
          "model_name": "LayoutModel",
          "model_module_version": "1.2.0",
          "state": {
            "_model_module": "@jupyter-widgets/base",
            "_model_module_version": "1.2.0",
            "_model_name": "LayoutModel",
            "_view_count": null,
            "_view_module": "@jupyter-widgets/base",
            "_view_module_version": "1.2.0",
            "_view_name": "LayoutView",
            "align_content": null,
            "align_items": null,
            "align_self": null,
            "border": null,
            "bottom": null,
            "display": null,
            "flex": null,
            "flex_flow": null,
            "grid_area": null,
            "grid_auto_columns": null,
            "grid_auto_flow": null,
            "grid_auto_rows": null,
            "grid_column": null,
            "grid_gap": null,
            "grid_row": null,
            "grid_template_areas": null,
            "grid_template_columns": null,
            "grid_template_rows": null,
            "height": null,
            "justify_content": null,
            "justify_items": null,
            "left": null,
            "margin": null,
            "max_height": null,
            "max_width": null,
            "min_height": null,
            "min_width": null,
            "object_fit": null,
            "object_position": null,
            "order": null,
            "overflow": null,
            "overflow_x": null,
            "overflow_y": null,
            "padding": null,
            "right": null,
            "top": null,
            "visibility": null,
            "width": null
          }
        },
        "f292ce55407146ce9fb166c00c3f5cea": {
          "model_module": "@jupyter-widgets/controls",
          "model_name": "DescriptionStyleModel",
          "model_module_version": "1.5.0",
          "state": {
            "_model_module": "@jupyter-widgets/controls",
            "_model_module_version": "1.5.0",
            "_model_name": "DescriptionStyleModel",
            "_view_count": null,
            "_view_module": "@jupyter-widgets/base",
            "_view_module_version": "1.2.0",
            "_view_name": "StyleView",
            "description_width": ""
          }
        },
        "e3bf4431792c4625bac454324773d940": {
          "model_module": "@jupyter-widgets/controls",
          "model_name": "HBoxModel",
          "model_module_version": "1.5.0",
          "state": {
            "_dom_classes": [],
            "_model_module": "@jupyter-widgets/controls",
            "_model_module_version": "1.5.0",
            "_model_name": "HBoxModel",
            "_view_count": null,
            "_view_module": "@jupyter-widgets/controls",
            "_view_module_version": "1.5.0",
            "_view_name": "HBoxView",
            "box_style": "",
            "children": [
              "IPY_MODEL_feae2be7c1ae472aa23127dd4b3da3f4",
              "IPY_MODEL_9e2aec10c47244df85a730845fc56414",
              "IPY_MODEL_d909760ee74043bcaa8a28403a367336"
            ],
            "layout": "IPY_MODEL_1f83030be3b84c0384a6ade6e4279d62"
          }
        },
        "feae2be7c1ae472aa23127dd4b3da3f4": {
          "model_module": "@jupyter-widgets/controls",
          "model_name": "HTMLModel",
          "model_module_version": "1.5.0",
          "state": {
            "_dom_classes": [],
            "_model_module": "@jupyter-widgets/controls",
            "_model_module_version": "1.5.0",
            "_model_name": "HTMLModel",
            "_view_count": null,
            "_view_module": "@jupyter-widgets/controls",
            "_view_module_version": "1.5.0",
            "_view_name": "HTMLView",
            "description": "",
            "description_tooltip": null,
            "layout": "IPY_MODEL_7658a2049de147d5949bab28a09695e5",
            "placeholder": "​",
            "style": "IPY_MODEL_3d9f8b3435cb4bbbb252f341bea6f206",
            "value": "tokenizer.json: 100%"
          }
        },
        "9e2aec10c47244df85a730845fc56414": {
          "model_module": "@jupyter-widgets/controls",
          "model_name": "FloatProgressModel",
          "model_module_version": "1.5.0",
          "state": {
            "_dom_classes": [],
            "_model_module": "@jupyter-widgets/controls",
            "_model_module_version": "1.5.0",
            "_model_name": "FloatProgressModel",
            "_view_count": null,
            "_view_module": "@jupyter-widgets/controls",
            "_view_module_version": "1.5.0",
            "_view_name": "ProgressView",
            "bar_style": "success",
            "description": "",
            "description_tooltip": null,
            "layout": "IPY_MODEL_2ca53ee62f4a4da4947b0947b16d1e52",
            "max": 466062,
            "min": 0,
            "orientation": "horizontal",
            "style": "IPY_MODEL_4bec4bdbd3d941638267fba0428eff7b",
            "value": 466062
          }
        },
        "d909760ee74043bcaa8a28403a367336": {
          "model_module": "@jupyter-widgets/controls",
          "model_name": "HTMLModel",
          "model_module_version": "1.5.0",
          "state": {
            "_dom_classes": [],
            "_model_module": "@jupyter-widgets/controls",
            "_model_module_version": "1.5.0",
            "_model_name": "HTMLModel",
            "_view_count": null,
            "_view_module": "@jupyter-widgets/controls",
            "_view_module_version": "1.5.0",
            "_view_name": "HTMLView",
            "description": "",
            "description_tooltip": null,
            "layout": "IPY_MODEL_beb2588515444df5888764889adac2f2",
            "placeholder": "​",
            "style": "IPY_MODEL_1b635cb146e047b0996458ff4c0adb26",
            "value": " 466k/466k [00:00&lt;00:00, 3.51MB/s]"
          }
        },
        "1f83030be3b84c0384a6ade6e4279d62": {
          "model_module": "@jupyter-widgets/base",
          "model_name": "LayoutModel",
          "model_module_version": "1.2.0",
          "state": {
            "_model_module": "@jupyter-widgets/base",
            "_model_module_version": "1.2.0",
            "_model_name": "LayoutModel",
            "_view_count": null,
            "_view_module": "@jupyter-widgets/base",
            "_view_module_version": "1.2.0",
            "_view_name": "LayoutView",
            "align_content": null,
            "align_items": null,
            "align_self": null,
            "border": null,
            "bottom": null,
            "display": null,
            "flex": null,
            "flex_flow": null,
            "grid_area": null,
            "grid_auto_columns": null,
            "grid_auto_flow": null,
            "grid_auto_rows": null,
            "grid_column": null,
            "grid_gap": null,
            "grid_row": null,
            "grid_template_areas": null,
            "grid_template_columns": null,
            "grid_template_rows": null,
            "height": null,
            "justify_content": null,
            "justify_items": null,
            "left": null,
            "margin": null,
            "max_height": null,
            "max_width": null,
            "min_height": null,
            "min_width": null,
            "object_fit": null,
            "object_position": null,
            "order": null,
            "overflow": null,
            "overflow_x": null,
            "overflow_y": null,
            "padding": null,
            "right": null,
            "top": null,
            "visibility": null,
            "width": null
          }
        },
        "7658a2049de147d5949bab28a09695e5": {
          "model_module": "@jupyter-widgets/base",
          "model_name": "LayoutModel",
          "model_module_version": "1.2.0",
          "state": {
            "_model_module": "@jupyter-widgets/base",
            "_model_module_version": "1.2.0",
            "_model_name": "LayoutModel",
            "_view_count": null,
            "_view_module": "@jupyter-widgets/base",
            "_view_module_version": "1.2.0",
            "_view_name": "LayoutView",
            "align_content": null,
            "align_items": null,
            "align_self": null,
            "border": null,
            "bottom": null,
            "display": null,
            "flex": null,
            "flex_flow": null,
            "grid_area": null,
            "grid_auto_columns": null,
            "grid_auto_flow": null,
            "grid_auto_rows": null,
            "grid_column": null,
            "grid_gap": null,
            "grid_row": null,
            "grid_template_areas": null,
            "grid_template_columns": null,
            "grid_template_rows": null,
            "height": null,
            "justify_content": null,
            "justify_items": null,
            "left": null,
            "margin": null,
            "max_height": null,
            "max_width": null,
            "min_height": null,
            "min_width": null,
            "object_fit": null,
            "object_position": null,
            "order": null,
            "overflow": null,
            "overflow_x": null,
            "overflow_y": null,
            "padding": null,
            "right": null,
            "top": null,
            "visibility": null,
            "width": null
          }
        },
        "3d9f8b3435cb4bbbb252f341bea6f206": {
          "model_module": "@jupyter-widgets/controls",
          "model_name": "DescriptionStyleModel",
          "model_module_version": "1.5.0",
          "state": {
            "_model_module": "@jupyter-widgets/controls",
            "_model_module_version": "1.5.0",
            "_model_name": "DescriptionStyleModel",
            "_view_count": null,
            "_view_module": "@jupyter-widgets/base",
            "_view_module_version": "1.2.0",
            "_view_name": "StyleView",
            "description_width": ""
          }
        },
        "2ca53ee62f4a4da4947b0947b16d1e52": {
          "model_module": "@jupyter-widgets/base",
          "model_name": "LayoutModel",
          "model_module_version": "1.2.0",
          "state": {
            "_model_module": "@jupyter-widgets/base",
            "_model_module_version": "1.2.0",
            "_model_name": "LayoutModel",
            "_view_count": null,
            "_view_module": "@jupyter-widgets/base",
            "_view_module_version": "1.2.0",
            "_view_name": "LayoutView",
            "align_content": null,
            "align_items": null,
            "align_self": null,
            "border": null,
            "bottom": null,
            "display": null,
            "flex": null,
            "flex_flow": null,
            "grid_area": null,
            "grid_auto_columns": null,
            "grid_auto_flow": null,
            "grid_auto_rows": null,
            "grid_column": null,
            "grid_gap": null,
            "grid_row": null,
            "grid_template_areas": null,
            "grid_template_columns": null,
            "grid_template_rows": null,
            "height": null,
            "justify_content": null,
            "justify_items": null,
            "left": null,
            "margin": null,
            "max_height": null,
            "max_width": null,
            "min_height": null,
            "min_width": null,
            "object_fit": null,
            "object_position": null,
            "order": null,
            "overflow": null,
            "overflow_x": null,
            "overflow_y": null,
            "padding": null,
            "right": null,
            "top": null,
            "visibility": null,
            "width": null
          }
        },
        "4bec4bdbd3d941638267fba0428eff7b": {
          "model_module": "@jupyter-widgets/controls",
          "model_name": "ProgressStyleModel",
          "model_module_version": "1.5.0",
          "state": {
            "_model_module": "@jupyter-widgets/controls",
            "_model_module_version": "1.5.0",
            "_model_name": "ProgressStyleModel",
            "_view_count": null,
            "_view_module": "@jupyter-widgets/base",
            "_view_module_version": "1.2.0",
            "_view_name": "StyleView",
            "bar_color": null,
            "description_width": ""
          }
        },
        "beb2588515444df5888764889adac2f2": {
          "model_module": "@jupyter-widgets/base",
          "model_name": "LayoutModel",
          "model_module_version": "1.2.0",
          "state": {
            "_model_module": "@jupyter-widgets/base",
            "_model_module_version": "1.2.0",
            "_model_name": "LayoutModel",
            "_view_count": null,
            "_view_module": "@jupyter-widgets/base",
            "_view_module_version": "1.2.0",
            "_view_name": "LayoutView",
            "align_content": null,
            "align_items": null,
            "align_self": null,
            "border": null,
            "bottom": null,
            "display": null,
            "flex": null,
            "flex_flow": null,
            "grid_area": null,
            "grid_auto_columns": null,
            "grid_auto_flow": null,
            "grid_auto_rows": null,
            "grid_column": null,
            "grid_gap": null,
            "grid_row": null,
            "grid_template_areas": null,
            "grid_template_columns": null,
            "grid_template_rows": null,
            "height": null,
            "justify_content": null,
            "justify_items": null,
            "left": null,
            "margin": null,
            "max_height": null,
            "max_width": null,
            "min_height": null,
            "min_width": null,
            "object_fit": null,
            "object_position": null,
            "order": null,
            "overflow": null,
            "overflow_x": null,
            "overflow_y": null,
            "padding": null,
            "right": null,
            "top": null,
            "visibility": null,
            "width": null
          }
        },
        "1b635cb146e047b0996458ff4c0adb26": {
          "model_module": "@jupyter-widgets/controls",
          "model_name": "DescriptionStyleModel",
          "model_module_version": "1.5.0",
          "state": {
            "_model_module": "@jupyter-widgets/controls",
            "_model_module_version": "1.5.0",
            "_model_name": "DescriptionStyleModel",
            "_view_count": null,
            "_view_module": "@jupyter-widgets/base",
            "_view_module_version": "1.2.0",
            "_view_name": "StyleView",
            "description_width": ""
          }
        }
      }
    }
  },
  "nbformat": 4,
  "nbformat_minor": 0
}